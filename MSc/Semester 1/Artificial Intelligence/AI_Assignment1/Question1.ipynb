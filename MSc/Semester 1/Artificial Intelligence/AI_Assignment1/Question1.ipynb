{
 "cells": [
  {
   "cell_type": "code",
   "execution_count": 1,
   "id": "3642df69-7cbd-453d-92f3-c447d42b1db3",
   "metadata": {},
   "outputs": [
    {
     "data": {
      "text/html": [
       "<div>\n",
       "<style scoped>\n",
       "    .dataframe tbody tr th:only-of-type {\n",
       "        vertical-align: middle;\n",
       "    }\n",
       "\n",
       "    .dataframe tbody tr th {\n",
       "        vertical-align: top;\n",
       "    }\n",
       "\n",
       "    .dataframe thead th {\n",
       "        text-align: right;\n",
       "    }\n",
       "</style>\n",
       "<table border=\"1\" class=\"dataframe\">\n",
       "  <thead>\n",
       "    <tr style=\"text-align: right;\">\n",
       "      <th></th>\n",
       "      <th>0</th>\n",
       "      <th>1</th>\n",
       "      <th>2</th>\n",
       "      <th>3</th>\n",
       "      <th>4</th>\n",
       "      <th>5</th>\n",
       "    </tr>\n",
       "  </thead>\n",
       "  <tbody>\n",
       "    <tr>\n",
       "      <th>0</th>\n",
       "      <td>Harrow &amp; Wealdstone</td>\n",
       "      <td>Kenton</td>\n",
       "      <td>Bakerloo</td>\n",
       "      <td>3</td>\n",
       "      <td>5</td>\n",
       "      <td>0</td>\n",
       "    </tr>\n",
       "    <tr>\n",
       "      <th>1</th>\n",
       "      <td>Kenton</td>\n",
       "      <td>South Kenton</td>\n",
       "      <td>Bakerloo</td>\n",
       "      <td>2</td>\n",
       "      <td>4</td>\n",
       "      <td>0</td>\n",
       "    </tr>\n",
       "    <tr>\n",
       "      <th>2</th>\n",
       "      <td>South Kenton</td>\n",
       "      <td>North Wembley</td>\n",
       "      <td>Bakerloo</td>\n",
       "      <td>2</td>\n",
       "      <td>4</td>\n",
       "      <td>0</td>\n",
       "    </tr>\n",
       "    <tr>\n",
       "      <th>3</th>\n",
       "      <td>North Wembley</td>\n",
       "      <td>Wembley Central</td>\n",
       "      <td>Bakerloo</td>\n",
       "      <td>2</td>\n",
       "      <td>4</td>\n",
       "      <td>0</td>\n",
       "    </tr>\n",
       "    <tr>\n",
       "      <th>4</th>\n",
       "      <td>Wembley Central</td>\n",
       "      <td>Stonebridge Park</td>\n",
       "      <td>Bakerloo</td>\n",
       "      <td>3</td>\n",
       "      <td>4</td>\n",
       "      <td>0</td>\n",
       "    </tr>\n",
       "  </tbody>\n",
       "</table>\n",
       "</div>"
      ],
      "text/plain": [
       "                     0                 1         2  3  4  5\n",
       "0  Harrow & Wealdstone            Kenton  Bakerloo  3  5  0\n",
       "1               Kenton      South Kenton  Bakerloo  2  4  0\n",
       "2         South Kenton     North Wembley  Bakerloo  2  4  0\n",
       "3        North Wembley   Wembley Central  Bakerloo  2  4  0\n",
       "4      Wembley Central  Stonebridge Park  Bakerloo  3  4  0"
      ]
     },
     "execution_count": 1,
     "metadata": {},
     "output_type": "execute_result"
    }
   ],
   "source": [
    "import pandas as pd\n",
    "\n",
    "df = pd.read_csv(\"tubedata.csv\", header=None)\n",
    "df.head()"
   ]
  },
  {
   "cell_type": "code",
   "execution_count": 2,
   "id": "f7dc184e-68e9-4865-b16f-721fbad02f88",
   "metadata": {},
   "outputs": [],
   "source": [
    "from collections import defaultdict\n",
    "\n",
    "station_dict = defaultdict(list)\n",
    "station_dict_with_lines = defaultdict(dict)\n",
    "zone_dict = defaultdict(set)\n",
    "\n",
    "# get data row by row\n",
    "for index, row in df.iterrows():\n",
    "    start_station = row[0]\n",
    "    end_station = row[1]\n",
    "    act_cost = int(row[3])\n",
    "    zone1 = row[4]\n",
    "    zone2 = row[5]\n",
    "    # station dict. of child station tuples (child name, cost from parent to the child)\n",
    "    # f\"Mile End\": [(\"Stepney Green\", 2), (\"Wembley\", 1)]g\n",
    "    station_list = station_dict[start_station]\n",
    "    station_list.append((end_station, act_cost))\n",
    "    # the following two lines add the other direction of the tube ``step''\n",
    "    station_list = station_dict[end_station]\n",
    "    station_list.append((start_station, act_cost))\n",
    "    \n",
    "    line = row[2]\n",
    "    station_list_with_lines = station_dict_with_lines[start_station]\n",
    "    station_list_with_lines[end_station] = {\"cost\":act_cost, \"line\":line}\n",
    "    station_list_with_lines = station_dict_with_lines[end_station]\n",
    "    station_list_with_lines[start_station] = {\"cost\":act_cost,\"line\":line}\n",
    "    # we add the main zone\n",
    "    zone_dict[start_station].add(zone1)\n",
    "    # we add the secondary zone\n",
    "    if zone2 != \"0\":\n",
    "        zone_dict[start_station].add(zone2)\n",
    "        # if the secondary zone is not 0 it's the main zone for the ending station\n",
    "        zone_dict[end_station].add(zone2)\n",
    "    else:\n",
    "        # otherwise the main zone for the ending station is the same as the starting station\n",
    "        zone_dict[end_station].add(zone1)"
   ]
  },
  {
   "cell_type": "markdown",
   "id": "3833b874-8396-4c7f-80db-b1dec03e0882",
   "metadata": {},
   "source": [
    "**2.1. Implement DFS, BFS, and USC**"
   ]
  },
  {
   "cell_type": "code",
   "execution_count": 3,
   "id": "e3789a8a-f323-4684-b64b-7ca72378beda",
   "metadata": {},
   "outputs": [],
   "source": [
    "import queue\n",
    "\n",
    "def PathExpander(nodeName, reached):\n",
    "    path = (reached[nodeName][\"actual cost\"],[nodeName])\n",
    "    parent = reached[nodeName][\"parent\"]\n",
    "    while parent != None:\n",
    "        path[1].append(parent)\n",
    "        parent = reached[parent][\"parent\"]\n",
    "    path[1].reverse()\n",
    "    return path\n",
    "\n",
    "def Expansion(graph, start, goal, node, Evaluation,val,reached):\n",
    "    l = val\n",
    "    for child in graph[node[2][0]]:\n",
    "        l+=1\n",
    "        results = Evaluation(graph, start, goal, node,child) ## Returns the priority and cost\n",
    "        yield [l,(results[0],l,(child[0],results[1],graph[child[0]],results[2]))]\n",
    "\n",
    "def BestFirstSearch(graph, start, goal, Evaluation):\n",
    "    ##### (priorty, second priority, (name, cost, children, actual cost))\n",
    "    node = (0,0,(start,0,dict(graph[start]),0))\n",
    "    frontier = queue.PriorityQueue()\n",
    "    frontier.put(node)\n",
    "    reached = {start:{\"cost\":0,\"parent\":None,\"actual cost\":0}}\n",
    "    val = 0\n",
    "    while not(frontier.empty()):\n",
    "        node = frontier.get()\n",
    "        if node[2][0] == goal:\n",
    "            return (*PathExpander(node[2][0],reached),val)\n",
    "        for (val,child) in Expansion(graph, start, goal, node, Evaluation, val, reached):\n",
    "            if not(child[2][0] in reached) or child[2][1]<reached[child[2][0]][\"cost\"]:\n",
    "                reached[child[2][0]] = {\"cost\":child[2][1], \"parent\":node[2][0],\"actual cost\":child[2][3]}\n",
    "                frontier.put(child)"
   ]
  },
  {
   "cell_type": "code",
   "execution_count": 4,
   "id": "482eae9f-d25c-463f-b24a-621741ad946a",
   "metadata": {},
   "outputs": [],
   "source": [
    "def BreadthFirstEvaluation(graph, start, goal, node,child):\n",
    "    new_cost = node[2][1] + 1\n",
    "    actual_cost = node[2][3] + child[1]\n",
    "    return (new_cost, new_cost,actual_cost) ## (priority,)"
   ]
  },
  {
   "cell_type": "code",
   "execution_count": 5,
   "id": "f0acb441-da92-4a56-bccc-0bc23d5710d3",
   "metadata": {},
   "outputs": [],
   "source": [
    "def DepthFirstEvaluation(graph, start, goal, node, child):\n",
    "    new_cost = node[2][1] + 1\n",
    "    actual_cost = node[2][3] + child[1]\n",
    "    return (-new_cost, new_cost, actual_cost)"
   ]
  },
  {
   "cell_type": "code",
   "execution_count": 6,
   "id": "aed58915-c6f3-43be-872a-40126eecfa3f",
   "metadata": {},
   "outputs": [],
   "source": [
    "def UniformCostEvaluation(graph, start, goal, node, child):\n",
    "    new_cost = node[2][3] + child[1]\n",
    "    return (new_cost, new_cost,new_cost)"
   ]
  },
  {
   "cell_type": "code",
   "execution_count": 7,
   "id": "b9fd1e2d-7985-47d9-9038-c27bad6debc3",
   "metadata": {},
   "outputs": [
    {
     "data": {
      "text/plain": [
       "(7,\n",
       " ['Euston', 'Warren Street', 'Oxford Circus', 'Green Park', 'Victoria'],\n",
       " 134)"
      ]
     },
     "execution_count": 7,
     "metadata": {},
     "output_type": "execute_result"
    }
   ],
   "source": [
    "BestFirstSearch(station_dict, \"Euston\", \"Victoria\", BreadthFirstEvaluation)"
   ]
  },
  {
   "cell_type": "code",
   "execution_count": 8,
   "id": "85503e3d-d3cc-41e8-8cd9-027e6b08a7c0",
   "metadata": {},
   "outputs": [
    {
     "data": {
      "text/plain": [
       "(24,\n",
       " ['Euston',\n",
       "  'Warren Street',\n",
       "  'Goodge Street',\n",
       "  'Tottenham Court Road',\n",
       "  'Holborn',\n",
       "  'Chancery Lane',\n",
       "  \"St. Paul's\",\n",
       "  'Bank/Monument',\n",
       "  'Cannon Street',\n",
       "  'Mansion House',\n",
       "  'Blackfriars',\n",
       "  'Temple',\n",
       "  'Embankment',\n",
       "  'Charing Cross',\n",
       "  'Piccadilly Circus',\n",
       "  'Green Park',\n",
       "  'Victoria'],\n",
       " 1222)"
      ]
     },
     "execution_count": 8,
     "metadata": {},
     "output_type": "execute_result"
    }
   ],
   "source": [
    "BestFirstSearch(station_dict, \"Euston\", \"Victoria\", DepthFirstEvaluation)"
   ]
  },
  {
   "cell_type": "code",
   "execution_count": 9,
   "id": "483af363-dc78-4266-8922-a2f4cd88ef7b",
   "metadata": {},
   "outputs": [
    {
     "data": {
      "text/plain": [
       "(7,\n",
       " ['Euston', 'Warren Street', 'Oxford Circus', 'Green Park', 'Victoria'],\n",
       " 114)"
      ]
     },
     "execution_count": 9,
     "metadata": {},
     "output_type": "execute_result"
    }
   ],
   "source": [
    "BestFirstSearch(station_dict, \"Euston\", \"Victoria\", UniformCostEvaluation)"
   ]
  },
  {
   "cell_type": "code",
   "execution_count": 10,
   "id": "4a67ad20-3be0-4040-a468-3d772c8b9933",
   "metadata": {},
   "outputs": [],
   "source": [
    "def BreadthFirstSearch(graph, start, goal):\n",
    "    return BestFirstSearch(graph,start,goal,BreadthFirstEvaluation)\n",
    "\n",
    "def DepthFirstSearch(graph,start,goal):\n",
    "    return BestFirstSearch(graph,start,goal,DepthFirstEvaluation)\n",
    "\n",
    "def UniformCostSearch(graph,start,goal):\n",
    "    return BestFirstSearch(graph,start,goal,UniformCostEvaluation)"
   ]
  },
  {
   "cell_type": "code",
   "execution_count": 11,
   "id": "c820c5d3-2093-47db-817f-d19b82b913c2",
   "metadata": {},
   "outputs": [
    {
     "name": "stdout",
     "output_type": "stream",
     "text": [
      "(7, ['Euston', 'Warren Street', 'Oxford Circus', 'Green Park', 'Victoria'], 134)\n",
      "(24, ['Euston', 'Warren Street', 'Goodge Street', 'Tottenham Court Road', 'Holborn', 'Chancery Lane', \"St. Paul's\", 'Bank/Monument', 'Cannon Street', 'Mansion House', 'Blackfriars', 'Temple', 'Embankment', 'Charing Cross', 'Piccadilly Circus', 'Green Park', 'Victoria'], 1222)\n",
      "(7, ['Euston', 'Warren Street', 'Oxford Circus', 'Green Park', 'Victoria'], 114)\n"
     ]
    }
   ],
   "source": [
    "print(BreadthFirstSearch(station_dict,\"Euston\", \"Victoria\"))\n",
    "print(DepthFirstSearch(station_dict,\"Euston\", \"Victoria\"))\n",
    "print(UniformCostSearch(station_dict,\"Euston\", \"Victoria\"))"
   ]
  },
  {
   "cell_type": "markdown",
   "id": "218369aa-3f3f-44f4-b3a9-0a2ab4dbd0b2",
   "metadata": {},
   "source": [
    "**2.2 Compare DFS, BFS, and USC**"
   ]
  },
  {
   "cell_type": "code",
   "execution_count": 12,
   "id": "f074b6ad-9d1e-4de3-87aa-27dfbd84b7a4",
   "metadata": {},
   "outputs": [],
   "source": [
    "all_stations = list(station_dict)"
   ]
  },
  {
   "cell_type": "code",
   "execution_count": 13,
   "id": "d0c4fd57-3107-40d8-9af5-b281c7a3e250",
   "metadata": {},
   "outputs": [
    {
     "name": "stdout",
     "output_type": "stream",
     "text": [
      "{'Average Time Taken': 34.55187157037622, 'Average Nodes Expanded': 418.75708391770263}\n",
      "{'Average Time Taken': 64.6174752522433, 'Average Nodes Expanded': 851.9059517163437}\n",
      "{'Average Time Taken': 33.43824294331504, 'Average Nodes Expanded': 442.49498236679784}\n"
     ]
    }
   ],
   "source": [
    "bfs_results = {\"Average Time Taken\":0,\"Average Nodes Expanded\":0}\n",
    "dfs_results = {\"Average Time Taken\":0,\"Average Nodes Expanded\":0}\n",
    "ucs_results = {\"Average Time Taken\":0,\"Average Nodes Expanded\":0}\n",
    "count=0\n",
    "for i in all_stations:\n",
    "    for j in all_stations:\n",
    "        count+=1\n",
    "        bfs = BreadthFirstSearch(station_dict, i,j)\n",
    "        dfs = DepthFirstSearch(station_dict, i,j)\n",
    "        ucs = UniformCostSearch(station_dict, i,j)\n",
    "        bfs_results[\"Average Time Taken\"] += bfs[0]\n",
    "        bfs_results[\"Average Nodes Expanded\"] += bfs[2]\n",
    "        dfs_results[\"Average Time Taken\"] += dfs[0]\n",
    "        dfs_results[\"Average Nodes Expanded\"] += dfs[2]\n",
    "        ucs_results[\"Average Time Taken\"] += ucs[0]\n",
    "        ucs_results[\"Average Nodes Expanded\"] += ucs[2]\n",
    "bfs_results[\"Average Time Taken\"] /= count\n",
    "bfs_results[\"Average Nodes Expanded\"] /= count\n",
    "dfs_results[\"Average Time Taken\"] /= count\n",
    "dfs_results[\"Average Nodes Expanded\"] /= count\n",
    "ucs_results[\"Average Time Taken\"] /= count\n",
    "ucs_results[\"Average Nodes Expanded\"] /= count\n",
    "print(bfs_results)\n",
    "print(dfs_results)\n",
    "print(ucs_results)"
   ]
  },
  {
   "cell_type": "code",
   "execution_count": 14,
   "id": "c6b9adb3-62a2-407d-8ec7-3fb24f616904",
   "metadata": {},
   "outputs": [
    {
     "name": "stdout",
     "output_type": "stream",
     "text": [
      "BFS, DFS, and UCS on all problems on the state space\n",
      "\n",
      "BFS:  {'Average Time Taken': 34.55187157037622, 'Average Nodes Expanded': 418.75708391770263}\n",
      "DFS:  {'Average Time Taken': 64.6174752522433, 'Average Nodes Expanded': 851.9059517163437}\n",
      "UCS:  {'Average Time Taken': 33.43824294331504, 'Average Nodes Expanded': 442.49498236679784}\n"
     ]
    }
   ],
   "source": [
    "print(\"BFS, DFS, and UCS on all problems on the state space\\n\")\n",
    "print(\"BFS: \",bfs_results)\n",
    "print(\"DFS: \",dfs_results)\n",
    "print(\"UCS: \",ucs_results)"
   ]
  },
  {
   "cell_type": "code",
   "execution_count": 15,
   "id": "d79bba54-bed2-4138-87c0-e93df209b7d2",
   "metadata": {},
   "outputs": [
    {
     "name": "stdout",
     "output_type": "stream",
     "text": [
      "Euston to Victoria\n",
      "\n",
      "BFS:\n",
      "Average Time Taken: 7\n",
      "Route: ['Euston', 'Warren Street', 'Oxford Circus', 'Green Park', 'Victoria']\n",
      "Nodes Expanded: 134\n",
      "\n",
      "DFS:\n",
      "Average Time Taken: 24\n",
      "Route: ['Euston', 'Warren Street', 'Goodge Street', 'Tottenham Court Road', 'Holborn', 'Chancery Lane', \"St. Paul's\", 'Bank/Monument', 'Cannon Street', 'Mansion House', 'Blackfriars', 'Temple', 'Embankment', 'Charing Cross', 'Piccadilly Circus', 'Green Park', 'Victoria']\n",
      "Nodes Expanded: 1222\n",
      "\n",
      "UCS:\n",
      "Average Time Taken: 7\n",
      "Route: ['Euston', 'Warren Street', 'Oxford Circus', 'Green Park', 'Victoria']\n",
      "Nodes Expanded: 114\n",
      "\n",
      "\n",
      "\n",
      "Canada Water to Stratford\n",
      "\n",
      "BFS:\n",
      "Average Time Taken: 15\n",
      "Route: ['Canada Water', 'Canary Wharf', 'North Greenwich', 'Canning Town', 'West Ham', 'Stratford']\n",
      "Nodes Expanded: 143\n",
      "\n",
      "DFS:\n",
      "Average Time Taken: 20\n",
      "Route: ['Canada Water', 'Rotherhithe', 'Wapping', 'Shadwell', 'Whitechapel', 'Aldgate East', 'Liverpool Street', 'Bethnal Green', 'Mile End', 'Stratford']\n",
      "Nodes Expanded: 2630\n",
      "\n",
      "UCS:\n",
      "Average Time Taken: 14\n",
      "Route: ['Canada Water', 'Rotherhithe', 'Wapping', 'Shadwell', 'Whitechapel', 'Stepney Green', 'Mile End', 'Stratford']\n",
      "Nodes Expanded: 196\n",
      "\n",
      "\n",
      "\n",
      "New Cross Gate to Stepney Green\n",
      "\n",
      "BFS:\n",
      "Average Time Taken: 14\n",
      "Route: ['New Cross Gate', 'Surrey Quays', 'Canada Water', 'Rotherhithe', 'Wapping', 'Shadwell', 'Whitechapel', 'Stepney Green']\n",
      "Nodes Expanded: 92\n",
      "\n",
      "DFS:\n",
      "Average Time Taken: 14\n",
      "Route: ['New Cross Gate', 'Surrey Quays', 'Canada Water', 'Rotherhithe', 'Wapping', 'Shadwell', 'Whitechapel', 'Stepney Green']\n",
      "Nodes Expanded: 2880\n",
      "\n",
      "UCS:\n",
      "Average Time Taken: 14\n",
      "Route: ['New Cross Gate', 'Surrey Quays', 'Canada Water', 'Rotherhithe', 'Wapping', 'Shadwell', 'Whitechapel', 'Stepney Green']\n",
      "Nodes Expanded: 49\n",
      "\n",
      "\n",
      "\n",
      "Ealing Broadway to South Kensington\n",
      "\n",
      "BFS:\n",
      "Average Time Taken: 20\n",
      "Route: ['Ealing Broadway', 'Ealing Common', 'Acton Town', 'Turnham Green', 'Hammersmith', 'Barons Court', \"Earls' Court\", 'Gloucester Road', 'South Kensington']\n",
      "Nodes Expanded: 135\n",
      "\n",
      "DFS:\n",
      "Average Time Taken: 51\n",
      "Route: ['Ealing Broadway', 'West Acton', 'North Acton', 'East Acton', 'White City', \"Shepherd's Bush\", 'Holland Park', 'Notting Hill Gate', 'Queensway', 'Lancaster Gate', 'Marble Arch', 'Bond Street', 'Oxford Circus', 'Piccadilly Circus', 'Charing Cross', 'Embankment', 'Waterloo', 'Kennington', 'Oval', 'Stockwell', 'Vauxhall', 'Pimlico', 'Victoria', 'Sloane Square', 'South Kensington']\n",
      "Nodes Expanded: 970\n",
      "\n",
      "UCS:\n",
      "Average Time Taken: 19\n",
      "Route: ['Ealing Broadway', 'Ealing Common', 'Acton Town', 'Turnham Green', 'Hammersmith', 'Barons Court', \"Earls' Court\", 'Gloucester Road', 'South Kensington']\n",
      "Nodes Expanded: 141\n",
      "\n",
      "\n",
      "\n",
      "Baker Street to Wembley Park\n",
      "\n",
      "BFS:\n",
      "Average Time Taken: 13\n",
      "Route: ['Baker Street', 'Finchley Road', 'Wembley Park']\n",
      "Nodes Expanded: 69\n",
      "\n",
      "DFS:\n",
      "Average Time Taken: 89\n",
      "Route: ['Baker Street', \"Regent's Park\", 'Oxford Circus', 'Piccadilly Circus', 'Charing Cross', 'Embankment', 'Waterloo', 'Kennington', 'Oval', 'Stockwell', 'Vauxhall', 'Pimlico', 'Victoria', 'Sloane Square', 'South Kensington', 'Gloucester Road', 'High Street Kensington', 'Notting Hill Gate', 'Holland Park', \"Shepherd's Bush\", 'White City', 'East Acton', 'North Acton', 'West Acton', 'Ealing Broadway', 'Ealing Common', 'North Ealing', 'Park Royal', 'Alperton', 'Sudbury Town', 'Sudbury Hill', 'South Harrow', 'Rayners Lane', 'West Harrow', 'Harrow-on-the-Hill', 'Northwick Park', 'Preston Road', 'Wembley Park']\n",
      "Nodes Expanded: 1063\n",
      "\n",
      "UCS:\n",
      "Average Time Taken: 13\n",
      "Route: ['Baker Street', 'Finchley Road', 'Wembley Park']\n",
      "Nodes Expanded: 298\n",
      "\n",
      "\n",
      "\n"
     ]
    }
   ],
   "source": [
    "routes = ((\"Euston\", \"Victoria\"),(\"Canada Water\", \"Stratford\"), (\"New Cross Gate\", \"Stepney Green\"),\n",
    "          (\"Ealing Broadway\", \"South Kensington\"), (\"Baker Street\", \"Wembley Park\"))\n",
    "for start,goal in routes:\n",
    "    bfs = BreadthFirstSearch(station_dict, start, goal)\n",
    "    dfs = DepthFirstSearch(station_dict, start, goal)\n",
    "    ucs = UniformCostSearch(station_dict, start, goal)\n",
    "    print(f\"{start} to {goal}\\n\")\n",
    "    print(\"BFS:\")\n",
    "    print(f\"Average Time Taken: {bfs[0]}\")\n",
    "    print(f\"Route: {bfs[1]}\")\n",
    "    print(f\"Nodes Expanded: {bfs[2]}\\n\")\n",
    "    \n",
    "    print(\"DFS:\")\n",
    "    print(f\"Average Time Taken: {dfs[0]}\")\n",
    "    print(f\"Route: {dfs[1]}\")\n",
    "    print(f\"Nodes Expanded: {dfs[2]}\\n\")\n",
    "    print(\"UCS:\")\n",
    "    print(f\"Average Time Taken: {ucs[0]}\")\n",
    "    print(f\"Route: {ucs[1]}\")\n",
    "    print(f\"Nodes Expanded: {ucs[2]}\\n\\n\\n\")"
   ]
  },
  {
   "cell_type": "code",
   "execution_count": 16,
   "id": "18dbb573-6c2e-4da6-b744-cd927874aaeb",
   "metadata": {},
   "outputs": [],
   "source": [
    "def ExpansionReversed(graph, start, goal, node, Evaluation,val,reached):\n",
    "    l = val\n",
    "    for child in graph[node[2][0]]:\n",
    "        l-=1\n",
    "        results = Evaluation(graph, start, goal, node,child) ## Returns the priority and cost\n",
    "        yield [l,(results[0],l,(child[0],results[1],graph[child[0]],results[2]))]\n",
    "\n",
    "def BestFirstSearchReversed(graph, start, goal, Evaluation):\n",
    "    ##### (priorty, second priority, (name, cost, children, actual cost))\n",
    "    node = (0,0,(start,0,dict(graph[start]),0))\n",
    "    frontier = queue.PriorityQueue()\n",
    "    frontier.put(node)\n",
    "    reached = {start:{\"cost\":0,\"parent\":None,\"actual cost\":0}}\n",
    "    val = 0\n",
    "    while not(frontier.empty()):\n",
    "        node = frontier.get()\n",
    "        if node[2][0] == goal:\n",
    "            return (*PathExpander(node[2][0],reached),-val)\n",
    "        for (val,child) in ExpansionReversed(graph, start, goal, node, Evaluation, val, reached):\n",
    "            if not(child[2][0] in reached) or child[2][1]<reached[child[2][0]][\"cost\"]:\n",
    "                reached[child[2][0]] = {\"cost\":child[2][1], \"parent\":node[2][0],\"actual cost\":child[2][3]}\n",
    "                frontier.put(child)"
   ]
  },
  {
   "cell_type": "code",
   "execution_count": 17,
   "id": "cda8d06b-a715-4c77-b083-7b41eec31b68",
   "metadata": {},
   "outputs": [
    {
     "name": "stdout",
     "output_type": "stream",
     "text": [
      "BFS Reversed:  (20, ['Ealing Broadway', 'Ealing Common', 'Acton Town', 'Turnham Green', 'Hammersmith', 'Barons Court', \"Earls' Court\", 'Gloucester Road', 'South Kensington'], 139)\n",
      "DFS Reversed:  (57, ['Ealing Broadway', 'Ealing Common', 'North Ealing', 'Park Royal', 'Alperton', 'Sudbury Town', 'Sudbury Hill', 'South Harrow', 'Rayners Lane', 'West Harrow', 'Harrow-on-the-Hill', 'Northwick Park', 'Preston Road', 'Wembley Park', 'Finchley Road', 'Baker Street', 'Bond Street', 'Green Park', 'Victoria', 'Sloane Square', 'South Kensington'], 1259)\n",
      "UCS Reversed:  (19, ['Ealing Broadway', 'Ealing Common', 'Acton Town', 'Turnham Green', 'Hammersmith', 'Barons Court', \"Earls' Court\", 'Gloucester Road', 'South Kensington'], 122)\n"
     ]
    }
   ],
   "source": [
    "print(\"BFS Reversed: \",BestFirstSearchReversed(station_dict, \"Ealing Broadway\", \"South Kensington\",BreadthFirstEvaluation))\n",
    "print(\"DFS Reversed: \",BestFirstSearchReversed(station_dict, \"Ealing Broadway\", \"South Kensington\",DepthFirstEvaluation))\n",
    "print(\"UCS Reversed: \",BestFirstSearchReversed(station_dict, \"Ealing Broadway\", \"South Kensington\",UniformCostEvaluation))"
   ]
  },
  {
   "cell_type": "code",
   "execution_count": 18,
   "id": "a4fc84d8-c2ce-41ab-b1da-fae0c67d434e",
   "metadata": {},
   "outputs": [
    {
     "name": "stdout",
     "output_type": "stream",
     "text": [
      "BFS:  (20, ['Ealing Broadway', 'Ealing Common', 'Acton Town', 'Turnham Green', 'Hammersmith', 'Barons Court', \"Earls' Court\", 'Gloucester Road', 'South Kensington'], 135)\n",
      "DFS:  (51, ['Ealing Broadway', 'West Acton', 'North Acton', 'East Acton', 'White City', \"Shepherd's Bush\", 'Holland Park', 'Notting Hill Gate', 'Queensway', 'Lancaster Gate', 'Marble Arch', 'Bond Street', 'Oxford Circus', 'Piccadilly Circus', 'Charing Cross', 'Embankment', 'Waterloo', 'Kennington', 'Oval', 'Stockwell', 'Vauxhall', 'Pimlico', 'Victoria', 'Sloane Square', 'South Kensington'], 970)\n",
      "UCS:  (19, ['Ealing Broadway', 'Ealing Common', 'Acton Town', 'Turnham Green', 'Hammersmith', 'Barons Court', \"Earls' Court\", 'Gloucester Road', 'South Kensington'], 141)\n"
     ]
    }
   ],
   "source": [
    "print(\"BFS: \",BestFirstSearch(station_dict, \"Ealing Broadway\", \"South Kensington\",BreadthFirstEvaluation))\n",
    "print(\"DFS: \",BestFirstSearch(station_dict, \"Ealing Broadway\", \"South Kensington\",DepthFirstEvaluation))\n",
    "print(\"UCS: \",BestFirstSearch(station_dict, \"Ealing Broadway\", \"South Kensington\",UniformCostEvaluation))"
   ]
  },
  {
   "cell_type": "markdown",
   "id": "809af041-544f-4f0f-b378-84fa40d910f4",
   "metadata": {},
   "source": [
    "**2.3 Extending the cost function**"
   ]
  },
  {
   "cell_type": "code",
   "execution_count": 19,
   "id": "82404efd-6c66-4d91-bb37-4c99f37d8294",
   "metadata": {
    "tags": []
   },
   "outputs": [],
   "source": [
    "import queue\n",
    "\n",
    "def ExpansionWithLines(graph, start, goal, node, Evaluation,val,reached):\n",
    "    l = val\n",
    "    for child in graph[node[2][0]]:\n",
    "        l+=1\n",
    "        results = Evaluation(graph, start, goal, node,child) ## Returns the priority,cost and actual cost\n",
    "        yield [l,(results[0],l,(child,results[1],graph[child],results[2],node[2][2][child][\"line\"]))]\n",
    "\n",
    "def BestFirstSearchWithLines(graph, start, goal, Evaluation):\n",
    "    ##### (priorty, second priority, (name, cost, children, actual cost, line))\n",
    "    node = (0,0,(start,0,dict(graph[start]),0, None))\n",
    "    frontier = queue.PriorityQueue()\n",
    "    frontier.put(node)\n",
    "    reached = {start:{\"cost\":0,\"parent\":None,\"actual cost\":0, \"lines\":[]}}\n",
    "    val = 0\n",
    "    while not(frontier.empty()):\n",
    "        node = frontier.get()\n",
    "        if node[2][0] == goal:\n",
    "            return (*PathExpander(node[2][0],reached),val)\n",
    "        for (val,child) in ExpansionWithLines(graph, start, goal, node, Evaluation, val, reached):\n",
    "            if not(child[2][0] in reached) or child[2][1]<reached[child[2][0]][\"cost\"]:\n",
    "                reached[child[2][0]] = {\"cost\":child[2][1], \"parent\":node[2][0],\"actual cost\":child[2][3], \"lines\":reached[node[2][0]][\"lines\"]+[child[2][4]]}\n",
    "                frontier.put(child)"
   ]
  },
  {
   "cell_type": "code",
   "execution_count": 20,
   "id": "7d371848-4717-44a5-b6a2-7d57c70de6e3",
   "metadata": {},
   "outputs": [],
   "source": [
    "def UniformCostEvaluationWithLines(graph, start, goal, node, child):\n",
    "    current_line = node[2][4]\n",
    "    new_line = node[2][2][child][\"line\"]\n",
    "    line_cost=0\n",
    "    if current_line == None or new_line == current_line:\n",
    "        line_cost=0\n",
    "    else:\n",
    "        line_cost=2\n",
    "    new_cost = node[2][3] + node[2][2][child][\"cost\"] + line_cost\n",
    "    return (new_cost, new_cost,new_cost)"
   ]
  },
  {
   "cell_type": "code",
   "execution_count": 21,
   "id": "5cb40312-0447-4bd1-b0d5-86c7a95afda9",
   "metadata": {},
   "outputs": [],
   "source": [
    "def BreadthFirstEvaluationWithLines(graph, start, goal, node, child):\n",
    "    current_line = node[2][4]\n",
    "    new_line = node[2][2][child][\"line\"]\n",
    "    line_cost=0\n",
    "    if current_line == None or new_line == current_line:\n",
    "        line_cost=0\n",
    "    else:\n",
    "        line_cost=2\n",
    "    actual_cost = node[2][3] + node[2][2][child][\"cost\"] + line_cost\n",
    "    new_cost = node[2][1] + 1\n",
    "    return (new_cost, new_cost,actual_cost)"
   ]
  },
  {
   "cell_type": "code",
   "execution_count": 22,
   "id": "ef7ed871-792b-4efb-b5d7-7f4ae1a4e89c",
   "metadata": {},
   "outputs": [],
   "source": [
    "def DepthFirstEvaluationWithLines(graph, start, goal, node, child):\n",
    "    current_line = node[2][4]\n",
    "    new_line = node[2][2][child][\"line\"]\n",
    "    line_cost=0\n",
    "    if current_line == None or new_line == current_line:\n",
    "        line_cost=0\n",
    "    else:\n",
    "        line_cost=2\n",
    "    actual_cost = node[2][3] + node[2][2][child][\"cost\"] + line_cost\n",
    "    new_cost = node[2][1] + 1\n",
    "    return (-new_cost, new_cost,actual_cost)"
   ]
  },
  {
   "cell_type": "code",
   "execution_count": 23,
   "id": "64180700-1870-49c2-a643-135cbdc77c2e",
   "metadata": {
    "tags": []
   },
   "outputs": [
    {
     "data": {
      "text/plain": [
       "(7, ['Euston', 'Warren Street', 'Oxford Circus', 'Green Park', 'Victoria'], 62)"
      ]
     },
     "execution_count": 23,
     "metadata": {},
     "output_type": "execute_result"
    }
   ],
   "source": [
    "BestFirstSearchWithLines(station_dict_with_lines, \"Euston\", \"Victoria\", UniformCostEvaluationWithLines)"
   ]
  },
  {
   "cell_type": "code",
   "execution_count": 24,
   "id": "830602cf-4fbc-4517-9e70-756ed5066fcf",
   "metadata": {},
   "outputs": [],
   "source": [
    "def UniformCostSearchWithLines(graph,start,goal):\n",
    "    return BestFirstSearchWithLines(graph,start,goal,UniformCostEvaluationWithLines)\n",
    "\n",
    "def BreadthFirstSearchWithLines(graph,start,goal):\n",
    "    return BestFirstSearchWithLines(graph,start,goal,BreadthFirstEvaluationWithLines)\n",
    "\n",
    "def DepthFirstSearchWithLines(graph,start,goal):\n",
    "    return BestFirstSearchWithLines(graph, start, goal, DepthFirstEvaluationWithLines)"
   ]
  },
  {
   "cell_type": "code",
   "execution_count": 25,
   "id": "2846393b-4145-44bf-be58-3d7f515f162b",
   "metadata": {},
   "outputs": [
    {
     "name": "stdout",
     "output_type": "stream",
     "text": [
      "(39, ['Euston', 'Warren Street', 'Goodge Street', 'Tottenham Court Road', 'Holborn', 'Chancery Lane', \"St. Paul's\", 'Bank/Monument', 'Cannon Street', 'Mansion House', 'Blackfriars', 'Temple', 'Embankment', 'Charing Cross', 'Piccadilly Circus', 'Green Park', 'Victoria'], 1028)\n"
     ]
    }
   ],
   "source": [
    "print(DepthFirstSearchWithLines(station_dict_with_lines, \"Euston\",\"Victoria\"))"
   ]
  },
  {
   "cell_type": "code",
   "execution_count": null,
   "id": "040961fd-28dc-4200-a99a-c132011d5e64",
   "metadata": {},
   "outputs": [],
   "source": []
  },
  {
   "cell_type": "code",
   "execution_count": 26,
   "id": "135dd4d7-d79d-490a-8375-3089b672abea",
   "metadata": {},
   "outputs": [],
   "source": [
    "def returnLines(route):\n",
    "    lines = []\n",
    "    for i in range(len(route)-1):\n",
    "        lines.append(station_dict_with_lines[route[i]][route[i+1]][\"line\"])\n",
    "    return lines"
   ]
  },
  {
   "cell_type": "code",
   "execution_count": 27,
   "id": "acb6827b-93bc-4c84-99eb-f97494df1f7e",
   "metadata": {},
   "outputs": [
    {
     "name": "stdout",
     "output_type": "stream",
     "text": [
      "(Marylebone, Shepherd's Bush)\n",
      "\n",
      "UCS:\n",
      "(13, ['Marylebone', 'Edgware Road', 'Paddington', 'Bayswater', 'Notting Hill Gate', 'Holland Park', \"Shepherd's Bush\"], 277)\n",
      "Lines:  ['Bakerloo', 'Hammersmith & City', 'District', 'District', 'Central', 'Central']\n",
      "\n",
      "UCS with Lines:\n",
      "(16, ['Marylebone', 'Edgware Road', 'Paddington', 'Royal Oak', 'Westbourne Park', 'Ladbroke Grove', 'Latimer Road', \"Shepherd's Bush\"], 193)\n",
      "Lines:  ['Bakerloo', 'Hammersmith & City', 'Hammersmith & City', 'Hammersmith & City', 'Hammersmith & City', 'Hammersmith & City', 'Hammersmith & City']\n"
     ]
    }
   ],
   "source": [
    "ucs = UniformCostSearch(station_dict, \"Marylebone\", \"Shepherd's Bush\")\n",
    "ucsl = UniformCostSearchWithLines(station_dict_with_lines, \"Marylebone\",\"Shepherd's Bush\")\n",
    "print(\"(Marylebone, Shepherd's Bush)\\n\")\n",
    "print(\"UCS:\")\n",
    "print(ucs)\n",
    "print(\"Lines: \",returnLines(ucs[1]))\n",
    "print(\"\\nUCS with Lines:\")\n",
    "print(ucsl)\n",
    "print(\"Lines: \",returnLines(ucsl[1]))"
   ]
  },
  {
   "cell_type": "code",
   "execution_count": 28,
   "id": "ede1512e-151c-4a29-9188-e70f60c3e2da",
   "metadata": {},
   "outputs": [
    {
     "name": "stdout",
     "output_type": "stream",
     "text": [
      "(Marylebone, Shepherd's Bush)\n",
      "\n",
      "DFS:\n",
      "(13, ['Marylebone', 'Edgware Road', 'Paddington', 'Bayswater', 'Notting Hill Gate', 'Holland Park', \"Shepherd's Bush\"], 54)\n",
      "Lines:  ['Bakerloo', 'Hammersmith & City', 'District', 'District', 'Central', 'Central']\n",
      "\n",
      "DFS with Lines:\n",
      "(21, ['Marylebone', 'Edgware Road', 'Paddington', 'Bayswater', 'Notting Hill Gate', 'Holland Park', \"Shepherd's Bush\"], 42)\n",
      "Lines:  ['Bakerloo', 'Hammersmith & City', 'District', 'District', 'Central', 'Central']\n"
     ]
    }
   ],
   "source": [
    "dfs = DepthFirstSearch(station_dict, \"Marylebone\", \"Shepherd's Bush\")\n",
    "dfsl = DepthFirstSearchWithLines(station_dict_with_lines, \"Marylebone\",\"Shepherd's Bush\")\n",
    "print(\"(Marylebone, Shepherd's Bush)\\n\")\n",
    "print(\"DFS:\")\n",
    "print(dfs)\n",
    "print(\"Lines: \",returnLines(dfs[1]))\n",
    "print(\"\\nDFS with Lines:\")\n",
    "print(dfsl)\n",
    "print(\"Lines: \",returnLines(dfsl[1]))"
   ]
  },
  {
   "cell_type": "code",
   "execution_count": 29,
   "id": "93e9bc29-9cbf-49cb-b8bb-97dd6657c1cf",
   "metadata": {},
   "outputs": [
    {
     "name": "stdout",
     "output_type": "stream",
     "text": [
      "(Marylebone, Shepherd's Bush)\n",
      "\n",
      "BFS:\n",
      "(13, ['Marylebone', 'Edgware Road', 'Paddington', 'Bayswater', 'Notting Hill Gate', 'Holland Park', \"Shepherd's Bush\"], 221)\n",
      "Lines:  ['Bakerloo', 'Hammersmith & City', 'District', 'District', 'Central', 'Central']\n",
      "\n",
      "BFS with Lines:\n",
      "(21, ['Marylebone', 'Edgware Road', 'Paddington', 'Bayswater', 'Notting Hill Gate', 'Holland Park', \"Shepherd's Bush\"], 171)\n",
      "Lines:  ['Bakerloo', 'Hammersmith & City', 'District', 'District', 'Central', 'Central']\n"
     ]
    }
   ],
   "source": [
    "bfs = BreadthFirstSearch(station_dict, \"Marylebone\", \"Shepherd's Bush\")\n",
    "bfsl = BreadthFirstSearchWithLines(station_dict_with_lines, \"Marylebone\",\"Shepherd's Bush\")\n",
    "print(\"(Marylebone, Shepherd's Bush)\\n\")\n",
    "print(\"BFS:\")\n",
    "print(bfs)\n",
    "print(\"Lines: \",returnLines(bfs[1]))\n",
    "print(\"\\nBFS with Lines:\")\n",
    "print(bfsl)\n",
    "print(\"Lines: \",returnLines(bfsl[1]))"
   ]
  },
  {
   "cell_type": "markdown",
   "id": "da518b79-3b06-44e2-80bb-daabf4135a3b",
   "metadata": {},
   "source": [
    "**2.4 Heuristic Search**"
   ]
  },
  {
   "cell_type": "code",
   "execution_count": 30,
   "id": "4fd92372-1136-452e-9786-b0e04972e903",
   "metadata": {},
   "outputs": [
    {
     "data": {
      "text/plain": [
       "0"
      ]
     },
     "execution_count": 30,
     "metadata": {},
     "output_type": "execute_result"
    }
   ],
   "source": [
    "int_list = [\"1\",\"2\",\"3\",\"4\",\"5\",\"6\",\"7\",\"8\",\"9\",]\n",
    "\n",
    "def ZoneHeuristic(node, goal):\n",
    "\n",
    "    node_lst = [int(i) if i in int_list else 0 for i in zone_dict[node]]\n",
    "    goal_lst = [int(i) if i in int_list else 0 for i in zone_dict[goal]]\n",
    "    node_zone = sum(node_lst)/len(node_lst)\n",
    "    goal_zone = sum(goal_lst)/len(goal_lst)\n",
    "    if node_zone == 0 or goal_zone == 0:\n",
    "        return 0\n",
    "    return abs(node_zone - goal_zone)\n",
    "\n",
    "ZoneHeuristic(\"Chesham\", \"Euston\")"
   ]
  },
  {
   "cell_type": "code",
   "execution_count": 31,
   "id": "9b470606-92a0-4e41-8371-a8e5c83ff39b",
   "metadata": {},
   "outputs": [],
   "source": [
    "def BestFirstSearchZoneHeuristic(graph, start, goal, Evaluation):\n",
    "    ##### (priorty, second priority, (name, cost, children, actual cost))\n",
    "    node = (0,0,(start,0,dict(graph[start]),0))\n",
    "    frontier = queue.PriorityQueue()\n",
    "    frontier.put(node)\n",
    "    reached = {start:{\"cost\":0,\"parent\":None,\"actual cost\":0}}\n",
    "    val = 0\n",
    "    while not(frontier.empty()):\n",
    "        node = frontier.get()\n",
    "        if node[2][0] == goal:\n",
    "            return (*PathExpander(node[2][0],reached),val)\n",
    "        for (val,child) in ExpansionZoneHeuristic(graph, start, goal, node, Evaluation, val, reached):\n",
    "            if not(child[2][0] in reached) or child[2][1]<reached[child[2][0]][\"cost\"]:\n",
    "                reached[child[2][0]] = {\"cost\":child[2][1], \"parent\":node[2][0],\"actual cost\":child[2][3]}\n",
    "                frontier.put(child)"
   ]
  },
  {
   "cell_type": "code",
   "execution_count": 32,
   "id": "95469360-b304-40c2-91ed-461dfee00228",
   "metadata": {},
   "outputs": [],
   "source": [
    "def ExpansionZoneHeuristic(graph, start, goal, node, Evaluation,val,reached):\n",
    "    l = val\n",
    "    for child in graph[node[2][0]]:\n",
    "        l+=1\n",
    "        hv = ZoneHeuristic(child[0],goal)\n",
    "        # print(child[0],zone_dict[child[0]],hv)\n",
    "        results = Evaluation(graph, start, goal, node,child) ## Returns the priority and cost\n",
    "        yield [l,(results[0]+hv,l,(child[0],results[1]+hv,graph[child[0]],results[2]))]\n"
   ]
  },
  {
   "cell_type": "code",
   "execution_count": 33,
   "id": "4258003a-2dce-44de-9df5-b8f20fa618d0",
   "metadata": {},
   "outputs": [],
   "source": [
    "def HeuristicEvaluation(graph, start, goal, node,child):\n",
    "    actual_cost = node[2][3] + child[1]\n",
    "    return (0, 0,actual_cost) "
   ]
  },
  {
   "cell_type": "code",
   "execution_count": 34,
   "id": "4f98746e-b7d7-441f-bc81-083d312feef7",
   "metadata": {},
   "outputs": [],
   "source": [
    "def ZoneHeuristicSearch(graph, start, end):\n",
    "    return BestFirstSearchZoneHeuristic(graph, start, end,HeuristicEvaluation)"
   ]
  },
  {
   "cell_type": "code",
   "execution_count": 35,
   "id": "abb4b3d9-1dd0-49ac-81d0-01878784e878",
   "metadata": {},
   "outputs": [
    {
     "name": "stdout",
     "output_type": "stream",
     "text": [
      "(Shepherd's Bush, Mile End)\n",
      "\n",
      "Uniform Cost Search:\n",
      "Cost:  28\n",
      "Path:  [\"Shepherd's Bush\", 'Holland Park', 'Notting Hill Gate', 'Queensway', 'Lancaster Gate', 'Marble Arch', 'Bond Street', 'Oxford Circus', 'Tottenham Court Road', 'Holborn', 'Chancery Lane', \"St. Paul's\", 'Bank/Monument', 'Liverpool Street', 'Bethnal Green', 'Mile End']\n",
      "Nodes Expanded:  563\n",
      "\n",
      "Zone Heuristic Search:\n",
      "Cost:  47\n",
      "Path:  [\"Shepherd's Bush\", 'Goldhawk Road', 'Hammersmith', 'Barons Court', \"Earls' Court\", 'Gloucester Road', 'South Kensington', 'Sloane Square', 'Victoria', 'Pimlico', 'Vauxhall', 'Stockwell', 'Oval', 'Kennington', 'Elephant & Castle', 'Borough', 'London Bridge', 'Bermondsey', 'Canada Water', 'Rotherhithe', 'Wapping', 'Shadwell', 'Whitechapel', 'Stepney Green', 'Mile End']\n",
      "Nodes Expanded:  455\n"
     ]
    }
   ],
   "source": [
    "# print(UniformCostSearch(station_dict,\"Euston\", \"Victoria\"))\n",
    "# print(ZoneHeuristicSearch(station_dict, \"Euston\", \"Victoria\"))\n",
    "usch = UniformCostSearch(station_dict,\"Shepherd's Bush\", \"Mile End\")\n",
    "zhs = ZoneHeuristicSearch(station_dict, \"Shepherd's Bush\", \"Mile End\")\n",
    "print(\"(Shepherd's Bush, Mile End)\\n\")\n",
    "print(\"Uniform Cost Search:\")\n",
    "print(\"Cost: \",usch[0])\n",
    "print(\"Path: \",usch[1])\n",
    "print(\"Nodes Expanded: \",usch[2])\n",
    "print(\"\\nZone Heuristic Search:\")\n",
    "print(\"Cost: \",zhs[0])\n",
    "print(\"Path: \",zhs[1])\n",
    "print(\"Nodes Expanded: \",zhs[2])"
   ]
  }
 ],
 "metadata": {
  "kernelspec": {
   "display_name": "Python 3 (ipykernel)",
   "language": "python",
   "name": "python3"
  },
  "language_info": {
   "codemirror_mode": {
    "name": "ipython",
    "version": 3
   },
   "file_extension": ".py",
   "mimetype": "text/x-python",
   "name": "python",
   "nbconvert_exporter": "python",
   "pygments_lexer": "ipython3",
   "version": "3.10.6"
  }
 },
 "nbformat": 4,
 "nbformat_minor": 5
}
