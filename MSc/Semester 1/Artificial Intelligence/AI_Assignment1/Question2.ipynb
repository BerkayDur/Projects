{
 "cells": [
  {
   "cell_type": "code",
   "execution_count": 1,
   "id": "ab07cb02-0a6f-407f-a032-6e8180476d30",
   "metadata": {},
   "outputs": [],
   "source": [
    "from hints import closeness\n",
    "import numpy as np\n"
   ]
  },
  {
   "cell_type": "code",
   "execution_count": 2,
   "id": "a5290d75-9406-4517-96b4-b033a1cf6f13",
   "metadata": {},
   "outputs": [
    {
     "name": "stdout",
     "output_type": "stream",
     "text": [
      "{'__Test__': 0.37218299469781413, 'IS_I7_LOV3': 0.36456777257672157}\n"
     ]
    }
   ],
   "source": [
    "scores = closeness([\"__Test__\",\"IS_I7_LOV3\"],\"ec22262\")\n",
    "print(scores)"
   ]
  },
  {
   "cell_type": "code",
   "execution_count": 3,
   "id": "a18ebc3b-674a-49d8-9ef8-4fe5c16cbb3a",
   "metadata": {},
   "outputs": [
    {
     "name": "stdout",
     "output_type": "stream",
     "text": [
      "37\n",
      "1\n"
     ]
    }
   ],
   "source": [
    "import random\n",
    "\n",
    "characters = \"ABCDEFGHIJKLMNOPQRSTUVWXYZ0123456789_\"\n",
    "print(len(characters))\n",
    "codes = {characters[i]:i for i in range(len(characters))}\n",
    "print(random.choice(range(len(characters))))"
   ]
  },
  {
   "cell_type": "code",
   "execution_count": 4,
   "id": "5502af70-0af7-4b82-969b-d83d2c59292b",
   "metadata": {},
   "outputs": [],
   "source": [
    "def GetInitialPopulation(alphabet,state_size,population_size):\n",
    "    return [\"\".join(random.choices(alphabet,k=state_size)) for i in range(population_size)]"
   ]
  },
  {
   "cell_type": "code",
   "execution_count": 5,
   "id": "e5537d4f-3dfe-482e-a652-c9d1f852de51",
   "metadata": {},
   "outputs": [],
   "source": [
    "initial_population = [\"\".join(random.choices(characters,k=10)) for i in range(100)]\n"
   ]
  },
  {
   "cell_type": "markdown",
   "id": "577aa6c6-9c59-4405-bdb8-45f0fa92d215",
   "metadata": {},
   "source": [
    "**3.1 Implement a Genetic Algorithm**"
   ]
  },
  {
   "cell_type": "code",
   "execution_count": 6,
   "id": "9b44fed5-4d5c-49d7-b9c9-11b211cc0fa9",
   "metadata": {},
   "outputs": [],
   "source": [
    "from math import comb\n",
    "def ev(population_size,mutation_rate=0.1):\n",
    "    population = GetInitialPopulation(characters,10,population_size)\n",
    "    for i in range(1000000):   ### Change to converge limit\n",
    "        fitness = closeness(population, \"ec22262\")\n",
    "        if 1 in fitness.values():\n",
    "            return ([k for k,v in fitness.items() if v==1][0],i)\n",
    "        mean_fitness = np.mean(list(fitness.values()))\n",
    "        parents_list = [x for x in population if fitness[x]+1e-10>=mean_fitness]\n",
    "        parents_list_code = [[codes[i] for i in j] for j in parents_list]\n",
    "        children=[]\n",
    "        while (len(children)<population_size):\n",
    "            if len(parents_list)>=2:\n",
    "                parents_index = [parents_list.index(i) for i in random.choices(parents_list, k=2)]\n",
    "                [i,j] = random.sample([0,1],2)\n",
    "                child = [(val + random.choices([0,1,-1],weights=[8,10*mutation_rate,10*mutation_rate],k=1)[0])%(len(characters)-1) for val in parents_list_code[parents_index[i]][:5]]\n",
    "                child.extend([(val + random.choices([0,1,-1],weights=[8,10*mutation_rate,10*mutation_rate],k=1)[0])%(len(characters)-1) for val in parents_list_code[parents_index[j]][5:]])\n",
    "            else:\n",
    "                parents_index = 0\n",
    "                child = [(val + random.choices([0,1,-1],weights=[8,10*mutation_rate,10*mutation_rate],k=1)[0])%(len(characters)-1) for val in parents_list_code[0]]\n",
    "            children.append(\"\".join([characters[i] for i in child]))\n",
    "            \n",
    "        children_scores = closeness(children,\"ec22262\")\n",
    "        new_scores = children_scores | fitness\n",
    "        population = [k for k, v in sorted(new_scores.items(), key=lambda item: -item[1])][:population_size] ## Change lim\n",
    "    return \"No Convergence\"\n",
    "prediction = ev(1)"
   ]
  },
  {
   "cell_type": "code",
   "execution_count": 7,
   "id": "97404e5d-7545-48dd-8812-7de9adbe0353",
   "metadata": {},
   "outputs": [
    {
     "name": "stdout",
     "output_type": "stream",
     "text": [
      "('L7F9SSP24R', 1401)\n"
     ]
    }
   ],
   "source": [
    "print(prediction)"
   ]
  },
  {
   "cell_type": "markdown",
   "id": "7140edb6-1f93-411b-84a9-8b310bae6b98",
   "metadata": {},
   "source": [
    "**3.3 - 3.4**"
   ]
  },
  {
   "cell_type": "code",
   "execution_count": 8,
   "id": "e229ec05-94e4-4e2a-85e5-a27bb3d31a9f",
   "metadata": {},
   "outputs": [],
   "source": [
    "values = [ev(100)[1] for i in range(100)]\n"
   ]
  },
  {
   "cell_type": "code",
   "execution_count": 9,
   "id": "ab5e9ecc-8cc1-46a5-86f6-3ab8bae4d725",
   "metadata": {},
   "outputs": [
    {
     "name": "stdout",
     "output_type": "stream",
     "text": [
      "65.16\n",
      "24.42651018872733\n"
     ]
    }
   ],
   "source": [
    "\n",
    "mean = np.mean(values)\n",
    "std = np.std(values)\n",
    "print(mean)\n",
    "print(std)"
   ]
  },
  {
   "cell_type": "code",
   "execution_count": 10,
   "id": "f42069e5-14a7-47e7-9e14-9d5cc3a58b07",
   "metadata": {},
   "outputs": [
    {
     "name": "stdout",
     "output_type": "stream",
     "text": [
      "Population size:  4\n",
      "Reproductions till convergence:  384\n",
      "Population size:  10\n",
      "Reproductions till convergence:  300\n",
      "Population size:  20\n",
      "Reproductions till convergence:  84\n",
      "Population size:  40\n",
      "Reproductions till convergence:  56\n",
      "Population size:  80\n",
      "Reproductions till convergence:  27\n",
      "Population size:  160\n",
      "Reproductions till convergence:  35\n",
      "Population size:  320\n",
      "Reproductions till convergence:  33\n",
      "Population size:  640\n",
      "Reproductions till convergence:  25\n",
      "Population size:  1280\n",
      "Reproductions till convergence:  29\n",
      "Population size:  2560\n",
      "Reproductions till convergence:  19\n",
      "Population size:  5120\n",
      "Reproductions till convergence:  16\n",
      "Population size:  10280\n",
      "Reproductions till convergence:  12\n"
     ]
    }
   ],
   "source": [
    "populations = [4,10,20,40,80,160,320,640,1280,2560,5120,10280]\n",
    "for pop in populations:\n",
    "    res = ev(pop)\n",
    "    print(\"Population size: \",pop)\n",
    "    print(\"Reproductions till convergence: \",res[1])"
   ]
  },
  {
   "cell_type": "code",
   "execution_count": 11,
   "id": "a1f4b6bd-ed28-4788-95cd-1e87b067dcdd",
   "metadata": {},
   "outputs": [
    {
     "name": "stdout",
     "output_type": "stream",
     "text": [
      "Mutation rate:  0.001\n",
      "Reproductions till convergence:  948\n",
      "Mutation rate:  0.05\n",
      "Reproductions till convergence:  38\n",
      "Mutation rate:  0.1\n",
      "Reproductions till convergence:  37\n",
      "Mutation rate:  0.2\n",
      "Reproductions till convergence:  38\n",
      "Mutation rate:  0.4\n",
      "Reproductions till convergence:  144\n",
      "Mutation rate:  0.6\n",
      "Reproductions till convergence:  126\n",
      "Mutation rate:  0.8\n",
      "Reproductions till convergence:  1706\n"
     ]
    }
   ],
   "source": [
    "m_rates = [0.001,0.05,0.1,0.2,0.4,0.6,0.8]\n",
    "for m in m_rates:\n",
    "    res = ev(100,m)\n",
    "    print(\"Mutation rate: \",m)\n",
    "    print(\"Reproductions till convergence: \",res[1])"
   ]
  }
 ],
 "metadata": {
  "kernelspec": {
   "display_name": "Python 3 (ipykernel)",
   "language": "python",
   "name": "python3"
  },
  "language_info": {
   "codemirror_mode": {
    "name": "ipython",
    "version": 3
   },
   "file_extension": ".py",
   "mimetype": "text/x-python",
   "name": "python",
   "nbconvert_exporter": "python",
   "pygments_lexer": "ipython3",
   "version": "3.10.6"
  }
 },
 "nbformat": 4,
 "nbformat_minor": 5
}
