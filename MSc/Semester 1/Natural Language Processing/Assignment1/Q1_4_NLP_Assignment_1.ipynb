{
 "cells": [
  {
   "cell_type": "markdown",
   "metadata": {},
   "source": [
    "# NLP Assignment 1 (40% of grade): Text classification for Fake News Detection\n",
    "\n",
    "This coursework will involve you implementing functions for a text classifier, which you will train to detect **fake news** in a corpus of approx. 10,000 statements, which will be split into a 80%/20% training/test split. \n",
    "\n",
    "In this template you are given the basis for that implementation, though some of the functions are missing, which you have to fill in.\n",
    "\n",
    "Follow the instructions file **NLP_Assignment_1_Instructions.pdf** for details of each question - the outline of what needs to be achieved for each question is as below.\n",
    "\n",
    "You must submit all **ipython notebooks and extra resources you need to run the code if you've added them** in the code submission, and a **2 page report (pdf)** in the report submission on QMPlus where you report your methods and findings according to the instructions file for each question."
   ]
  },
  {
   "cell_type": "code",
   "execution_count": 1,
   "metadata": {},
   "outputs": [
    {
     "name": "stdout",
     "output_type": "stream",
     "text": [
      "Requirement already satisfied: nltk in /opt/conda/lib/python3.10/site-packages (3.7)\n",
      "Requirement already satisfied: tqdm in /opt/conda/lib/python3.10/site-packages (from nltk) (4.64.1)\n",
      "Requirement already satisfied: regex>=2021.8.3 in /opt/conda/lib/python3.10/site-packages (from nltk) (2022.10.31)\n",
      "Requirement already satisfied: click in /opt/conda/lib/python3.10/site-packages (from nltk) (8.1.3)\n",
      "Requirement already satisfied: joblib in /opt/conda/lib/python3.10/site-packages (from nltk) (1.2.0)\n",
      "\n",
      "\u001b[1m[\u001b[0m\u001b[34;49mnotice\u001b[0m\u001b[1;39;49m]\u001b[0m\u001b[39;49m A new release of pip available: \u001b[0m\u001b[31;49m22.3\u001b[0m\u001b[39;49m -> \u001b[0m\u001b[32;49m22.3.1\u001b[0m\n",
      "\u001b[1m[\u001b[0m\u001b[34;49mnotice\u001b[0m\u001b[1;39;49m]\u001b[0m\u001b[39;49m To update, run: \u001b[0m\u001b[32;49mpip install --upgrade pip\u001b[0m\n"
     ]
    }
   ],
   "source": [
    "!pip install nltk"
   ]
  },
  {
   "cell_type": "code",
   "execution_count": 2,
   "metadata": {},
   "outputs": [],
   "source": [
    "import csv                               # csv reader\n",
    "from sklearn.svm import LinearSVC\n",
    "from nltk.classify import SklearnClassifier\n",
    "from sklearn.pipeline import Pipeline\n",
    "from sklearn.metrics import precision_recall_fscore_support # to report on precision and recall\n",
    "import numpy as np\n",
    "import re"
   ]
  },
  {
   "cell_type": "code",
   "execution_count": 3,
   "metadata": {},
   "outputs": [],
   "source": [
    "def load_data(path):\n",
    "    \"\"\"Load data from a tab-separated file and append it to raw_data.\"\"\"\n",
    "    with open(path,encoding=\"utf-8\") as f:\n",
    "        reader = csv.reader(f, delimiter='\\t')\n",
    "        for line in reader:\n",
    "            if line[0] == \"Id\":  # skip header\n",
    "                continue\n",
    "            (label, text) = parse_data_line(line)\n",
    "            raw_data.append((text, label))\n",
    "\n",
    "def split_and_preprocess_data(percentage):\n",
    "    \"\"\"Split the data between train_data and test_data according to the percentage\n",
    "    and performs the preprocessing.\"\"\"\n",
    "    num_samples = len(raw_data)\n",
    "    num_training_samples = int((percentage * num_samples))\n",
    "    for (text, label) in raw_data[:num_training_samples]:\n",
    "        train_data.append((to_feature_vector(pre_process(text)),label))\n",
    "    for (text, label) in raw_data[num_training_samples:]:\n",
    "        test_data.append((to_feature_vector(pre_process(text)),label))"
   ]
  },
  {
   "cell_type": "markdown",
   "metadata": {},
   "source": [
    "# Question 1: Input and Basic preprocessing (10 marks)"
   ]
  },
  {
   "cell_type": "code",
   "execution_count": 4,
   "metadata": {},
   "outputs": [],
   "source": [
    "def convert_label(label):\n",
    "    \"\"\"Converts the multiple classes into two,\n",
    "    making it a binary distinction between fake news and real.\"\"\"\n",
    "    #return label\n",
    "    # Converting the multiclass labels to binary label\n",
    "    labels_map = {\n",
    "        'true': 'REAL',\n",
    "        'mostly-true': 'REAL',\n",
    "        'half-true': 'REAL',\n",
    "        'false': 'FAKE',\n",
    "        'barely-true': 'FAKE',\n",
    "        'pants-fire': 'FAKE'\n",
    "    }\n",
    "    return labels_map[label]\n",
    "\n",
    "\n",
    "def parse_data_line(data_line):\n",
    "    # Should return a tuple of the label as just FAKE or REAL and the statement\n",
    "    # e.g. (label, statement)\n",
    "    return (convert_label(data_line[1]),data_line[2])"
   ]
  },
  {
   "cell_type": "code",
   "execution_count": 7,
   "metadata": {},
   "outputs": [],
   "source": [
    "\n",
    "# Input: a string of one statement\n",
    "def pre_process(text):\n",
    "    # Should return a list of tokens\n",
    "    # DESCRIBE YOUR METHOD IN WORDS\n",
    "    ## This tokenizes the input by simply cutting at word boundaries, which is\n",
    "    ## anything that isn't a letter, digit, or underscore.\n",
    "    pattern = \"\\W\"\n",
    "    tokens = re.split(pattern, text)\n",
    "    while \"\" in tokens:\n",
    "        tokens.remove(\"\")\n",
    "    return tokens"
   ]
  },
  {
   "cell_type": "code",
   "execution_count": 8,
   "metadata": {},
   "outputs": [
    {
     "data": {
      "text/plain": [
       "['This', 'is', 'my', 'Name']"
      ]
     },
     "execution_count": 8,
     "metadata": {},
     "output_type": "execute_result"
    }
   ],
   "source": [
    "##### TEST\n",
    "pre_process(\"This is my Name..\")"
   ]
  },
  {
   "cell_type": "markdown",
   "metadata": {},
   "source": [
    "# Question 2: Basic Feature Extraction (20 marks)"
   ]
  },
  {
   "cell_type": "code",
   "execution_count": 9,
   "metadata": {},
   "outputs": [],
   "source": [
    "global_feature_dict = {} # A global dictionary of features\n",
    "\n",
    "def to_feature_vector(tokens):\n",
    "    # Should return a dictionary containing features as keys, and weights as values\n",
    "    # DESCRIBE YOUR METHOD IN WORDS\n",
    "    ## Simple BOW model\n",
    "    features_dict = {}\n",
    "    for token in tokens:\n",
    "        features_dict.setdefault(token, 0)\n",
    "        global_feature_dict.setdefault(token,0)\n",
    "        ## Using a BOW model\n",
    "        features_dict[token] += 1\n",
    "        global_feature_dict[token] += 1\n",
    "    return features_dict"
   ]
  },
  {
   "cell_type": "code",
   "execution_count": 10,
   "metadata": {},
   "outputs": [],
   "source": [
    "# TRAINING AND VALIDATING OUR CLASSIFIER\n",
    "\n",
    "def train_classifier(data):\n",
    "    print(\"Training Classifier...\")\n",
    "    pipeline =  Pipeline([('svc', LinearSVC())])\n",
    "    return SklearnClassifier(pipeline).train(data)"
   ]
  },
  {
   "cell_type": "markdown",
   "metadata": {},
   "source": [
    "# Question 3: Cross-validation (20 marks)"
   ]
  },
  {
   "cell_type": "code",
   "execution_count": 11,
   "metadata": {},
   "outputs": [],
   "source": [
    "#solution\n",
    "from sklearn.metrics import classification_report\n",
    "\n",
    "\n",
    "def cross_validate(dataset, folds):\n",
    "    results = []\n",
    "    cv_results = {\n",
    "               \"FAKE\":{\"precision\":0, \"recall\":0, \"f1-score\":0},\n",
    "               \"REAL\":{\"precision\":0, \"recall\":0, \"f1-score\":0},\n",
    "               \"accuracy\":0,\n",
    "               \"macro avg\":{\"precision\":0, \"recall\":0, \"f1-score\":0},\n",
    "               \"weighted avg\":{\"precision\":0, \"recall\":0, \"f1-score\":0}\n",
    "              }\n",
    "    \n",
    "    results_headers = list(cv_results.keys())\n",
    "    results_sub_headers = list(cv_results[\"FAKE\"].keys())\n",
    "    \n",
    "    fold_size = int(len(dataset)/folds) + 1 \n",
    "    data = np.array(dataset)\n",
    "    for i in range(0,len(dataset),int(fold_size)):\n",
    "        # insert code here that trains and tests on the 10 folds of data in the dataset\n",
    "        print(\"Fold start on items %d - %d\" % (i, i+fold_size))\n",
    "        # FILL IN THE METHOD HERE\n",
    "        test = dataset[i:i+fold_size]\n",
    "        test_x = []\n",
    "        test_y = []\n",
    "        for data in test:\n",
    "            test_x.append(data[0])\n",
    "            test_y.append(data[1])\n",
    "        \n",
    "        train = dataset[0:i]\n",
    "        train.extend(dataset[i+fold_size:])\n",
    "        model = train_classifier(train)\n",
    "        predicted = predict_labels(test_x, model)\n",
    "        report = classification_report(test_y, predicted, output_dict=True)\n",
    "        \n",
    "        ### Appending the results for all\n",
    "        results.append(report)\n",
    "        \n",
    "        for header in results_headers:\n",
    "            if header == \"accuracy\":\n",
    "                cv_results[header] += report[\"accuracy\"]/folds\n",
    "                continue\n",
    "            for sub in results_sub_headers:\n",
    "                cv_results[header][sub] += report[header][sub]/folds\n",
    "    for header in results_headers:\n",
    "        if header == \"accuracy\":\n",
    "            print(f\"## {header} ## {cv_results[header]}\")\n",
    "            continue\n",
    "        print(f\"## {header} ##\")\n",
    "        for sub in results_sub_headers:\n",
    "            print(f\"{sub} : {cv_results[header][sub]}\")\n",
    "    return None"
   ]
  },
  {
   "cell_type": "code",
   "execution_count": 12,
   "metadata": {},
   "outputs": [],
   "source": [
    "# PREDICTING LABELS GIVEN A CLASSIFIER\n",
    "\n",
    "def predict_labels(samples, classifier):\n",
    "    \"\"\"Assuming preprocessed samples, return their predicted labels from the classifier model.\"\"\"\n",
    "    return classifier.classify_many(samples)\n",
    "\n",
    "def predict_label_from_raw(sample, classifier):\n",
    "    \"\"\"Assuming raw text, return its predicted label from the classifier model.\"\"\"\n",
    "    return classifier.classify(to_feature_vector(preProcess(reviewSample)))"
   ]
  },
  {
   "cell_type": "code",
   "execution_count": 13,
   "metadata": {},
   "outputs": [
    {
     "name": "stdout",
     "output_type": "stream",
     "text": [
      "Now 0 rawData, 0 trainData, 0 testData\n",
      "Preparing the dataset...\n",
      "Now 10241 rawData, 0 trainData, 0 testData\n",
      "Preparing training and test data...\n",
      "After split, 10241 rawData, 8192 trainData, 2049 testData\n",
      "Training Samples: \n",
      "8192\n",
      "Features: \n",
      "13791\n"
     ]
    }
   ],
   "source": [
    "# MAIN\n",
    "\n",
    "# loading reviews\n",
    "# initialize global lists that will be appended to by the methods below\n",
    "raw_data = []          # the filtered data from the dataset file\n",
    "train_data = []        # the pre-processed training data as a percentage of the total dataset\n",
    "test_data = []         # the pre-processed test data as a percentage of the total dataset\n",
    "\n",
    "# references to the data files\n",
    "data_file_path = 'fake_news.tsv'\n",
    "\n",
    "# Do the actual stuff (i.e. call the functions we've made)\n",
    "# We parse the dataset and put it in a raw data list\n",
    "print(\"Now %d rawData, %d trainData, %d testData\" % (len(raw_data), len(train_data), len(test_data)),\n",
    "      \"Preparing the dataset...\",sep='\\n')\n",
    "\n",
    "load_data(data_file_path) \n",
    "\n",
    "# We split the raw dataset into a set of training data and a set of test data (80/20)\n",
    "# You do the cross validation on the 80% (training data)\n",
    "# We print the number of training samples and the number of features before the split\n",
    "print(\"Now %d rawData, %d trainData, %d testData\" % (len(raw_data), len(train_data), len(test_data)),\n",
    "      \"Preparing training and test data...\",sep='\\n')\n",
    "\n",
    "split_and_preprocess_data(0.8)\n",
    "\n",
    "# We print the number of training samples and the number of features after the split\n",
    "print(\"After split, %d rawData, %d trainData, %d testData\" % (len(raw_data), len(train_data), len(test_data)),\n",
    "      \"Training Samples: \", len(train_data), \"Features: \", len(global_feature_dict), sep='\\n')\n"
   ]
  },
  {
   "cell_type": "code",
   "execution_count": 14,
   "metadata": {},
   "outputs": [
    {
     "name": "stdout",
     "output_type": "stream",
     "text": [
      "Fold start on items 0 - 820\n",
      "Training Classifier...\n",
      "Fold start on items 820 - 1640\n",
      "Training Classifier...\n",
      "Fold start on items 1640 - 2460\n",
      "Training Classifier...\n",
      "Fold start on items 2460 - 3280\n",
      "Training Classifier...\n",
      "Fold start on items 3280 - 4100\n",
      "Training Classifier...\n",
      "Fold start on items 4100 - 4920\n",
      "Training Classifier...\n",
      "Fold start on items 4920 - 5740\n",
      "Training Classifier...\n",
      "Fold start on items 5740 - 6560\n",
      "Training Classifier...\n",
      "Fold start on items 6560 - 7380\n",
      "Training Classifier...\n",
      "Fold start on items 7380 - 8200\n",
      "Training Classifier...\n",
      "## FAKE ##\n",
      "precision : 0.49464039435044377\n",
      "recall : 0.49345984958477984\n",
      "f1-score : 0.49370903622046786\n",
      "## REAL ##\n",
      "precision : 0.6108037155458281\n",
      "recall : 0.6119902271932431\n",
      "f1-score : 0.6111365838712632\n",
      "## accuracy ## 0.5604523609275501\n",
      "## macro avg ##\n",
      "precision : 0.552722054948136\n",
      "recall : 0.5527250383890114\n",
      "f1-score : 0.5524228100458656\n",
      "## weighted avg ##\n",
      "precision : 0.5610236897944589\n",
      "recall : 0.5604523609275501\n",
      "f1-score : 0.5604398421160508\n"
     ]
    }
   ],
   "source": [
    "cross_validate(train_data, 10)  # will work and output overall performance of p, r, f-score when cv implemented"
   ]
  },
  {
   "cell_type": "markdown",
   "metadata": {},
   "source": [
    "# 4. Error Analysis (10 marks)"
   ]
  },
  {
   "cell_type": "code",
   "execution_count": 23,
   "metadata": {},
   "outputs": [],
   "source": [
    "from sklearn import metrics\n",
    "import matplotlib.pyplot as plt\n",
    "# a function to make the confusion matrix readable and pretty\n",
    "def confusion_matrix_heatmap(y_test, preds, labels):\n",
    "    \"\"\"Function to plot a confusion matrix\"\"\"\n",
    "    # pass labels to the confusion matrix function to ensure right order\n",
    "    cm = metrics.confusion_matrix(y_test, preds, labels=labels)\n",
    "    fig = plt.figure(figsize=(10,10))\n",
    "    ax = fig.add_subplot(111)\n",
    "    cax = ax.matshow(cm)\n",
    "    plt.title('Confusion matrix of the classifier')\n",
    "    fig.colorbar(cax)\n",
    "    ax.set_xticks(np.arange(len(labels)))\n",
    "    ax.set_yticks(np.arange(len(labels)))\n",
    "    ax.set_xticklabels( labels, rotation=45)\n",
    "    ax.set_yticklabels( labels)\n",
    "\n",
    "    for i in range(len(cm)):\n",
    "        for j in range(len(cm)):\n",
    "            text = ax.text(j, i, cm[i, j],\n",
    "                           ha=\"center\", va=\"center\", color=\"w\")\n",
    "\n",
    "    plt.xlabel('Predicted')\n",
    "    plt.ylabel('True')\n",
    "    \n",
    "    # fix for mpl bug that cuts off top/bottom of seaborn viz:\n",
    "    b, t = plt.ylim() # discover the values for bottom and top\n",
    "    b += 0.5 # Add 0.5 to the bottom\n",
    "    t -= 0.5 # Subtract 0.5 from the top\n",
    "    plt.ylim(b, t) # update the ylim(bottom, top) values\n",
    "    plt.show() # ta-da!\n",
    "    plt.show()"
   ]
  },
  {
   "cell_type": "code",
   "execution_count": 24,
   "metadata": {},
   "outputs": [],
   "source": [
    "def ErrorAnalysisWriter(dic,arr,typ):\n",
    "    name = {\"tp\":\"Q4_True_Positive.csv\",\"fp\":\"Q4_False_Positive.csv\",\n",
    "            \"tn\":\"Q4_True_Negative.csv\",\"fn\":\"Q4_False_Negative.csv\"}\n",
    "    with open(name[typ],\"w\") as file:\n",
    "        headers = list(dic.keys())\n",
    "        headers.sort(key=lambda x:-dic[x])\n",
    "        writer = csv.DictWriter(file,fieldnames=headers)\n",
    "        writer.writeheader()\n",
    "        for i in arr:\n",
    "            writer.writerow(i)"
   ]
  },
  {
   "cell_type": "code",
   "execution_count": 25,
   "metadata": {},
   "outputs": [],
   "source": [
    "#solution\n",
    "from sklearn.metrics import classification_report\n",
    "\n",
    "\n",
    "def cross_validate(dataset, folds):\n",
    "    ## Error Analysis\n",
    "    \n",
    "    fp = []\n",
    "    fp_dict = {}\n",
    "    fn = []\n",
    "    fn_dict = {}\n",
    "    tp = []\n",
    "    tp_dict = {}\n",
    "    tn = []\n",
    "    tn_dict = {}\n",
    "    \n",
    "    ##\n",
    "    \n",
    "    \n",
    "    \n",
    "    results = []\n",
    "    cv_results = {\n",
    "               \"FAKE\":{\"precision\":0, \"recall\":0, \"f1-score\":0},\n",
    "               \"REAL\":{\"precision\":0, \"recall\":0, \"f1-score\":0},\n",
    "               \"accuracy\":0,\n",
    "               \"macro avg\":{\"precision\":0, \"recall\":0, \"f1-score\":0},\n",
    "               \"weighted avg\":{\"precision\":0, \"recall\":0, \"f1-score\":0}\n",
    "              }\n",
    "    \n",
    "    results_headers = list(cv_results.keys())\n",
    "    results_sub_headers = list(cv_results[\"FAKE\"].keys())\n",
    "    \n",
    "    fold_size = int(len(dataset)/folds) + 1 \n",
    "    data = np.array(dataset)\n",
    "    for i in range(0,len(dataset),int(fold_size)):\n",
    "        # insert code here that trains and tests on the 10 folds of data in the dataset\n",
    "        print(\"Fold start on items %d - %d\" % (i, i+fold_size))\n",
    "        # FILL IN THE METHOD HERE\n",
    "        test = dataset[i:i+fold_size]\n",
    "        test_x = []\n",
    "        test_y = []\n",
    "        for data in test:\n",
    "            test_x.append(data[0])\n",
    "            test_y.append(data[1])\n",
    "        \n",
    "        train = dataset[0:i]\n",
    "        train.extend(dataset[i+fold_size:])\n",
    "        model = train_classifier(train)\n",
    "        predicted = predict_labels(test_x, model)\n",
    "        report = classification_report(test_y, predicted, output_dict=True)\n",
    "        \n",
    "        \n",
    "        ## Confusion Matrix\n",
    "        if i==0:\n",
    "            confusion_matrix_heatmap(test_y, predicted, labels=[\"FAKE\",\"REAL\"])\n",
    "        ##\n",
    "        ## Error Analysis\n",
    "            for value in range(len(test_y)):\n",
    "                if test_y[value]== \"REAL\" and predicted[value] == \"FAKE\":\n",
    "                    for i in list(test_x[value].keys()):\n",
    "                        fp_dict.setdefault(i, 0)\n",
    "                        fp_dict[i]+=1\n",
    "                    fp.append(test_x[value])\n",
    "                elif test_y[value]== \"FAKE\" and predicted[value] == \"REAL\":\n",
    "                    for i in list(test_x[value].keys()):\n",
    "                        fn_dict.setdefault(i, 0)\n",
    "                        fn_dict[i]+=1\n",
    "                    fn.append(test_x[value])\n",
    "                elif test_y[value] == \"FAKE\" and predicted[value] == \"FAKE\":\n",
    "                    for i in list(test_x[value].keys()):\n",
    "                        tp_dict.setdefault(i, 0)\n",
    "                        tp_dict[i]+=1\n",
    "                    tp.append(test_x[value])\n",
    "                elif test_y[value] == \"REAL\" and predicted[value] == \"REAL\":\n",
    "                    for i in list(test_x[value].keys()):\n",
    "                        tn_dict.setdefault(i, 0)\n",
    "                        tn_dict[i]+=1\n",
    "                    tn.append(test_x[value])\n",
    "            ErrorAnalysisWriter(fp_dict,fp,\"fp\")\n",
    "            ErrorAnalysisWriter(fn_dict,fn,\"fn\")\n",
    "            ErrorAnalysisWriter(tp_dict,tp,\"tp\")\n",
    "            ErrorAnalysisWriter(tn_dict,tn,\"tn\")\n",
    "        \n",
    "        ##\n",
    "        ### Appending the results for all\n",
    "        results.append(report)\n",
    "        \n",
    "        for header in results_headers:\n",
    "            if header == \"accuracy\":\n",
    "                cv_results[header] += report[\"accuracy\"]/folds\n",
    "                continue\n",
    "            for sub in results_sub_headers:\n",
    "                cv_results[header][sub] += report[header][sub]/folds\n",
    "    for header in results_headers:\n",
    "        if header == \"accuracy\":\n",
    "            print(f\"## {header} ## {cv_results[header]}\")\n",
    "            continue\n",
    "        print(f\"## {header} ##\")\n",
    "        for sub in results_sub_headers:\n",
    "            print(f\"{sub} : {cv_results[header][sub]}\")\n",
    "            \n",
    "    return None"
   ]
  },
  {
   "cell_type": "code",
   "execution_count": 26,
   "metadata": {},
   "outputs": [
    {
     "name": "stdout",
     "output_type": "stream",
     "text": [
      "Fold start on items 0 - 820\n",
      "Training Classifier...\n"
     ]
    },
    {
     "data": {
      "image/png": "[encoded data removed]",
      "text/plain": [
       "<Figure size 1000x1000 with 2 Axes>"
      ]
     },
     "metadata": {},
     "output_type": "display_data"
    },
    {
     "name": "stdout",
     "output_type": "stream",
     "text": [
      "Fold start on items 820 - 1640\n",
      "Training Classifier...\n",
      "Fold start on items 1640 - 2460\n",
      "Training Classifier...\n",
      "Fold start on items 2460 - 3280\n",
      "Training Classifier...\n",
      "Fold start on items 3280 - 4100\n",
      "Training Classifier...\n",
      "Fold start on items 4100 - 4920\n",
      "Training Classifier...\n",
      "Fold start on items 4920 - 5740\n",
      "Training Classifier...\n",
      "Fold start on items 5740 - 6560\n",
      "Training Classifier...\n",
      "Fold start on items 6560 - 7380\n",
      "Training Classifier...\n",
      "Fold start on items 7380 - 8200\n",
      "Training Classifier...\n",
      "## FAKE ##\n",
      "precision : 0.49464039435044377\n",
      "recall : 0.49345984958477984\n",
      "f1-score : 0.49370903622046786\n",
      "## REAL ##\n",
      "precision : 0.6108037155458281\n",
      "recall : 0.6119902271932431\n",
      "f1-score : 0.6111365838712632\n",
      "## accuracy ## 0.5604523609275501\n",
      "## macro avg ##\n",
      "precision : 0.552722054948136\n",
      "recall : 0.5527250383890114\n",
      "f1-score : 0.5524228100458656\n",
      "## weighted avg ##\n",
      "precision : 0.5610236897944589\n",
      "recall : 0.5604523609275501\n",
      "f1-score : 0.5604398421160508\n"
     ]
    }
   ],
   "source": [
    "cross_validate(train_data, 10)"
   ]
  }
 ],
 "metadata": {
  "kernelspec": {
   "display_name": "Python 3 (ipykernel)",
   "language": "python",
   "name": "python3"
  },
  "language_info": {
   "codemirror_mode": {
    "name": "ipython",
    "version": 3
   },
   "file_extension": ".py",
   "mimetype": "text/x-python",
   "name": "python",
   "nbconvert_exporter": "python",
   "pygments_lexer": "ipython3",
   "version": "3.10.6"
  }
 },
 "nbformat": 4,
 "nbformat_minor": 4
}
