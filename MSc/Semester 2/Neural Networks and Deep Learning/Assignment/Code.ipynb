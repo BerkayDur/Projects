{
 "cells": [
  {
   "cell_type": "markdown",
   "metadata": {
    "id": "V54h2t2bpZLW"
   },
   "source": [
    "# 0. Imports and presteps"
   ]
  },
  {
   "cell_type": "code",
   "execution_count": 1,
   "metadata": {
    "id": "5WSx-e60o1UU"
   },
   "outputs": [],
   "source": [
    "import torch\n",
    "from torch import nn\n",
    "from torch.utils.data import DataLoader\n",
    "from torchvision import datasets\n",
    "import torchvision.transforms as transforms\n",
    "import torch.optim as optim\n",
    "import time\n",
    "import matplotlib.pyplot as plt"
   ]
  },
  {
   "cell_type": "markdown",
   "metadata": {
    "id": "r-_1yyXkppe6"
   },
   "source": [
    "Use CUDA to to use colab GPU (Standard)."
   ]
  },
  {
   "cell_type": "code",
   "execution_count": 2,
   "metadata": {
    "id": "UnYaf8gEpme8"
   },
   "outputs": [
    {
     "name": "stdout",
     "output_type": "stream",
     "text": [
      "cuda:0\n"
     ]
    }
   ],
   "source": [
    "device = torch.device(\"cuda:0\" if torch.cuda.is_available() else \"cpu\")\n",
    "print(device)"
   ]
  },
  {
   "cell_type": "markdown",
   "metadata": {
    "id": "QUSgZOnjpd8u"
   },
   "source": [
    "# 1. Read dataset and create dataloaders"
   ]
  },
  {
   "cell_type": "markdown",
   "metadata": {
    "id": "Hvms8ce1qhzy"
   },
   "source": [
    "Firstly I create the data augmentation transformations"
   ]
  },
  {
   "cell_type": "code",
   "execution_count": 3,
   "metadata": {
    "id": "oHEZ1W26pknX"
   },
   "outputs": [],
   "source": [
    "aug_1 = transforms.Compose([\n",
    "    transforms.RandomRotation(30),\n",
    "    transforms.RandomResizedCrop(32, scale=(0.8, 1.2)),\n",
    "    transforms.ToTensor()\n",
    "])\n",
    "\n",
    "aug_2 = transforms.Compose([\n",
    "    transforms.RandomAffine(30, translate=(0.3, 0.3), scale=(0.8, 1.2)),\n",
    "    transforms.RandomApply([transforms.ColorJitter(0.4, 0.4, 0.4, 0.2)], p=0.5),\n",
    "    transforms.RandomResizedCrop(32, scale=(0.8, 1.2)),\n",
    "    transforms.ToTensor()\n",
    "])"
   ]
  },
  {
   "cell_type": "code",
   "execution_count": 4,
   "metadata": {
    "id": "HEXqAGYJrX1R"
   },
   "outputs": [],
   "source": [
    "def get_cifar_train():\n",
    "  ## Gets cifar10 training data and applies the above augmentations and combines\n",
    "  ## with the original training set to give a final training set size of 150000.\n",
    "  t1 = datasets.CIFAR10(root=\"data\", train=True,\n",
    "                                download=True, transform=transforms.ToTensor())\n",
    "  \n",
    "  t2 = datasets.CIFAR10(root=\"data\", train=True,\n",
    "                                download=True, transform=aug_1)\n",
    "\n",
    "  t3 = datasets.CIFAR10(root=\"data\", train=True,\n",
    "                                download=True, transform=aug_2)\n",
    "  \n",
    "  return t1 + t2 + t3"
   ]
  },
  {
   "cell_type": "markdown",
   "metadata": {
    "id": "NU907SSSr7TJ"
   },
   "source": [
    "Get the CIFAR10 training and test data"
   ]
  },
  {
   "cell_type": "code",
   "execution_count": 5,
   "metadata": {
    "id": "E-8iF0sSr1Zz"
   },
   "outputs": [
    {
     "name": "stdout",
     "output_type": "stream",
     "text": [
      "Files already downloaded and verified\n",
      "Files already downloaded and verified\n",
      "Files already downloaded and verified\n",
      "Files already downloaded and verified\n"
     ]
    }
   ],
   "source": [
    "training_set = get_cifar_train()\n",
    "\n",
    "test_set = datasets.CIFAR10(root=\"data\", train=False,\n",
    "                            download=True, transform=transforms.ToTensor())"
   ]
  },
  {
   "cell_type": "code",
   "execution_count": 6,
   "metadata": {
    "id": "mhenJK4lr_zG"
   },
   "outputs": [
    {
     "data": {
      "text/plain": [
       "150000"
      ]
     },
     "execution_count": 6,
     "metadata": {},
     "output_type": "execute_result"
    }
   ],
   "source": [
    "len(training_set)  ## reality check: 150000"
   ]
  },
  {
   "cell_type": "markdown",
   "metadata": {
    "id": "nkzvLw5AsJgh"
   },
   "source": [
    "I will now create the dataloaders"
   ]
  },
  {
   "cell_type": "code",
   "execution_count": 7,
   "metadata": {
    "id": "OtWD6WoisNOs"
   },
   "outputs": [],
   "source": [
    "batch_size = 256  ## determined through experimentation that this was the best."
   ]
  },
  {
   "cell_type": "code",
   "execution_count": 8,
   "metadata": {
    "id": "lGUo4vG_sRWs"
   },
   "outputs": [],
   "source": [
    "train_dataloader = DataLoader(training_set, batch_size=batch_size)\n",
    "test_dataloader = DataLoader(test_set, batch_size=batch_size)"
   ]
  },
  {
   "cell_type": "markdown",
   "metadata": {
    "id": "bBxVY2PfsdHk"
   },
   "source": [
    "I will now print out an instance of the training set for a reality check."
   ]
  },
  {
   "cell_type": "code",
   "execution_count": 9,
   "metadata": {
    "id": "1ekfzFwTsbdJ"
   },
   "outputs": [
    {
     "name": "stdout",
     "output_type": "stream",
     "text": [
      "torch.Size([256, 3, 32, 32])\n",
      "torch.Size([256])\n"
     ]
    }
   ],
   "source": [
    "for X, y in train_dataloader:\n",
    "  print(X.shape)    ## reality check: (256, 3, 32, 32)\n",
    "  print(y.shape)    ## reality check: (256)\n",
    "  break"
   ]
  },
  {
   "cell_type": "code",
   "execution_count": 10,
   "metadata": {
    "id": "h5uHd0tns-z3"
   },
   "outputs": [
    {
     "data": {
      "text/plain": [
       "150000"
      ]
     },
     "execution_count": 10,
     "metadata": {},
     "output_type": "execute_result"
    }
   ],
   "source": [
    "len(train_dataloader.dataset)  ## reality check: 150000"
   ]
  },
  {
   "cell_type": "markdown",
   "metadata": {
    "id": "7cTJAIxAtDwy"
   },
   "source": [
    "Each image is a 3x32x32 image, where 32x32 is the size of the image and 3 is the channel size."
   ]
  },
  {
   "cell_type": "markdown",
   "metadata": {
    "id": "kVdpY9y4tLbD"
   },
   "source": [
    "# 2. Create the model"
   ]
  },
  {
   "cell_type": "markdown",
   "metadata": {
    "id": "bv7Y5YbStliQ"
   },
   "source": [
    "Convolution - Convolution with some extra details to simplify."
   ]
  },
  {
   "cell_type": "code",
   "execution_count": 11,
   "metadata": {
    "id": "Yp8BAvF8t2kt"
   },
   "outputs": [],
   "source": [
    "class Convolution(nn.Module):\n",
    "  def __init__(self, in_channels, out_channels, kernel_size, stride, padding, device, dropout_rate):\n",
    "    super(Convolution, self).__init__()\n",
    "\n",
    "    self.conv = nn.Conv2d(in_channels, out_channels, kernel_size, stride, padding=padding, device=device)\n",
    "    nn.init.xavier_normal_(self.conv.weight)\n",
    "    self.batchNorm = nn.BatchNorm2d(out_channels, device=device)\n",
    "    self.activation = nn.ReLU()\n",
    "    self.dropout = nn.Dropout(p=dropout_rate)\n",
    "\n",
    "  def forward(self, x):\n",
    "    x = self.conv(x)\n",
    "    x = self.batchNorm(x)\n",
    "    x = self.activation(x)\n",
    "    x = self.dropout(x)\n",
    "    return x"
   ]
  },
  {
   "cell_type": "markdown",
   "metadata": {
    "id": "vZKY5a5ltlUS"
   },
   "source": [
    "**Block** - The block used in the backbone\n",
    "\n",
    "\n",
    "\n",
    "> This block does everything as stated in the assignment brief. It also allows for the option of a residual connection.\n",
    "\n"
   ]
  },
  {
   "cell_type": "code",
   "execution_count": 12,
   "metadata": {
    "id": "SFuYQR8WtJ-q"
   },
   "outputs": [],
   "source": [
    "class Block(nn.Module):\n",
    "  def __init__(self, in_channels, out_channels, kernel_sizes, strides, padding, device, dropout_rate, skip_connection, adding_skip):\n",
    "    super(Block, self).__init__()\n",
    "    self.adding_skip = adding_skip\n",
    "    self.skip_connection = skip_connection\n",
    "    self.dense_size = len(kernel_sizes) ### This is the same as K\n",
    "    self.linear = nn.Linear(in_channels, self.dense_size, device=device)\n",
    "    self.spatialAvgPool = nn.AdaptiveAvgPool2d((1,1))\n",
    "    self.activation = nn.ReLU()\n",
    "    self.convolutions = nn.ModuleList([Convolution(in_channels, out_channels, kernel_sizes[i], strides[i], padding=padding, device=device, dropout_rate=dropout_rate) for i in range(self.dense_size)])\n",
    "\n",
    "  def forward(self, x1, x2=None):\n",
    "    if self.adding_skip == True:\n",
    "      x = torch.add(x1, x2)\n",
    "    else:\n",
    "      x = x1\n",
    "    y = self.spatialAvgPool(x)\n",
    "    y = y.view(y.size(0), y.size(1))\n",
    "    y = self.linear(y)\n",
    "    y = self.activation(y)\n",
    "    y = torch.reshape(y, (-1, self.dense_size, 1, 1, 1))\n",
    "    convs = [self.convolutions[i](x) for i in range(self.dense_size)]\n",
    "    for i in range(self.dense_size):\n",
    "      convs[i] = torch.mul(convs[i], y[:, i])\n",
    "    out = sum(convs)\n",
    "    if self.skip_connection == True:\n",
    "      return out, x\n",
    "    else:\n",
    "      return out"
   ]
  },
  {
   "cell_type": "markdown",
   "metadata": {
    "id": "e4Mud7aIu7ee"
   },
   "source": [
    "**Classifier** - This defines the classification part of the model.\n",
    "\n",
    "\n",
    "\n",
    "> This block contains everything as stated in the assignment brief.\n",
    "\n"
   ]
  },
  {
   "cell_type": "code",
   "execution_count": 13,
   "metadata": {
    "id": "pYj7HEPqu9L1"
   },
   "outputs": [],
   "source": [
    "class Classifier(nn.Module):\n",
    "  def __init__(self, in_channels):\n",
    "    super(Classifier, self).__init__()\n",
    "    self.spatialAvgPool = nn.AdaptiveAvgPool2d((1,1))\n",
    "    ####  Anything extra should be  ####\n",
    "    ####  added in this code block  ####\n",
    "\n",
    "    ####################################\n",
    "    ####################################\n",
    "    self.classifier = nn.Linear(in_channels, 10, device=device)\n",
    "    self.softmax = nn.Softmax(dim=1)\n",
    "\n",
    "  def forward(self, x):\n",
    "    x = self.spatialAvgPool(x)\n",
    "    x = x.view(x.size(0), x.size(1))\n",
    "    ####  Anything extra should be  ####\n",
    "    ####  added in this code block  ####\n",
    "\n",
    "\n",
    "    ####################################\n",
    "    ####################################\n",
    "    x = self.classifier(x)\n",
    "    x = self.softmax(x)\n",
    "    return x"
   ]
  },
  {
   "cell_type": "markdown",
   "metadata": {
    "id": "waAhca3zv_7x"
   },
   "source": [
    "**Backbone** - Encapsulates all the Blocks used the in backbone."
   ]
  },
  {
   "cell_type": "code",
   "execution_count": 14,
   "metadata": {
    "id": "6CSLq9O1vT4P"
   },
   "outputs": [],
   "source": [
    "class Backbone(nn.Module):\n",
    "  def __init__(self):\n",
    "    super(Backbone, self).__init__()\n",
    "    ####  Anything extra should be  ####\n",
    "    ####  added in this code block  ####\n",
    "    self.block1 = Block(3, 16, [3]*3, [1]*3, \"same\", device, 0.1, False, False)\n",
    "    self.block2 = Block(16, 32, [3]*3, [2]*3, 1, device, 0.1, False, False)\n",
    "    self.block3 = Block(32, 64, [3]*3, [1]*3, \"same\", device, 0.1, False, False)\n",
    "    self.block4 = Block(64, 32, [3]*3, [1]*3, \"same\", device, 0.1, True, False)\n",
    "    self.block5 = Block(32, 48, [3]*3, [2]*3, 1, device, 0.1, False, False)\n",
    "    self.block6 = Block(48, 64, [3]*3, [1]*3, \"same\", device, 0.1, False, False)\n",
    "    self.block7 = Block(64, 64, [3]*3, [1]*3, \"same\", device, 0.1, False, True)\n",
    "    self.block8 = Block(64, 64, [3]*3, [1]*3, \"same\", device, 0.1, False, False)\n",
    "    \n",
    "    self.residual = Convolution(64, 64, 3, 2, 1, device, 0.1)\n",
    "    ####################################\n",
    "    ####################################\n",
    "\n",
    "  def forward(self, x):\n",
    "    ####  Anything extra should be  ####\n",
    "    ####  added in this code block  ####\n",
    "    x = self.block1(x)\n",
    "    x = self.block2(x)\n",
    "    x = self.block3(x)\n",
    "    x, skip = self.block4(x)\n",
    "    skip = self.residual(skip)\n",
    "    x = self.block5(x)\n",
    "    x = self.block6(x)\n",
    "    x = self.block7(x, skip)\n",
    "    x = self.block8(x)\n",
    "    ####################################\n",
    "    ####################################\n",
    "    return x"
   ]
  },
  {
   "cell_type": "markdown",
   "metadata": {
    "id": "bLH6CdA6xMNF"
   },
   "source": [
    "**Model** - Uses the Backbone and Classifier class to create the final model to be used."
   ]
  },
  {
   "cell_type": "code",
   "execution_count": 15,
   "metadata": {
    "id": "J00UzZaau8vS"
   },
   "outputs": [],
   "source": [
    "class Model(nn.Module):\n",
    "  def __init__(self):\n",
    "    super(Model, self).__init__()\n",
    "\n",
    "    self.backbone = Backbone().to(device)\n",
    "    self.classifier = Classifier(64).to(device)\n",
    "\n",
    "  def forward(self,x):\n",
    "    x = self.backbone(x)\n",
    "    x = self.classifier(x)\n",
    "    return x"
   ]
  },
  {
   "cell_type": "markdown",
   "metadata": {
    "id": "X9NQbv1eyA9Y"
   },
   "source": [
    "Create the model:"
   ]
  },
  {
   "cell_type": "code",
   "execution_count": 16,
   "metadata": {
    "id": "boPLKzScx5YC"
   },
   "outputs": [],
   "source": [
    "model = Model().to(device)"
   ]
  },
  {
   "cell_type": "markdown",
   "metadata": {
    "id": "KmPX9WbFu7gE"
   },
   "source": [
    "# 3. Create the loss and the optimizer"
   ]
  },
  {
   "cell_type": "markdown",
   "metadata": {
    "id": "NE-CoZl_yE8h"
   },
   "source": [
    "For the loss I will use Cross Entropy Loss"
   ]
  },
  {
   "cell_type": "code",
   "execution_count": 17,
   "metadata": {
    "id": "W8dkYLeLxsKm"
   },
   "outputs": [],
   "source": [
    "criterion = nn.CrossEntropyLoss()"
   ]
  },
  {
   "cell_type": "markdown",
   "metadata": {
    "id": "2RqWQxlFyLyN"
   },
   "source": [
    "Optimizer be Adam with a weight decay of 0.0001."
   ]
  },
  {
   "cell_type": "code",
   "execution_count": 18,
   "metadata": {
    "id": "ezEfH0CMyP_d"
   },
   "outputs": [],
   "source": [
    "optimizer = optim.Adam(model.parameters(), weight_decay=0.0001)"
   ]
  },
  {
   "cell_type": "markdown",
   "metadata": {
    "id": "A7eQYuM4yUa8"
   },
   "source": [
    "I will also use the ReduceLROnPlateau learning rate scheduler."
   ]
  },
  {
   "cell_type": "code",
   "execution_count": 19,
   "metadata": {
    "id": "Cz3VcvsMyaEJ"
   },
   "outputs": [],
   "source": [
    "scheduler = optim.lr_scheduler.ReduceLROnPlateau(optimizer, patience=5, factor=0.5)"
   ]
  },
  {
   "cell_type": "markdown",
   "metadata": {
    "id": "omRR-tyNynss"
   },
   "source": [
    "# 4. Write the training script to train the model."
   ]
  },
  {
   "cell_type": "code",
   "execution_count": 20,
   "metadata": {
    "tags": []
   },
   "outputs": [],
   "source": [
    "def get_lr(optimizer):\n",
    "    for param_group in optimizer.param_groups:\n",
    "        return param_group['lr']"
   ]
  },
  {
   "cell_type": "markdown",
   "metadata": {
    "id": "8pTDc4C2zgbF"
   },
   "source": [
    "Set epochs and intialize the storage of the model history."
   ]
  },
  {
   "cell_type": "code",
   "execution_count": 21,
   "metadata": {
    "id": "XOTBv6JHysPm"
   },
   "outputs": [],
   "source": [
    "epochs = 60"
   ]
  },
  {
   "cell_type": "code",
   "execution_count": 22,
   "metadata": {
    "id": "FvxJpMMgywsH"
   },
   "outputs": [],
   "source": [
    "train_accuracies = []\n",
    "train_losses = []\n",
    "val_accuracies = []\n",
    "val_losses = []\n",
    "lrs = []"
   ]
  },
  {
   "cell_type": "markdown",
   "metadata": {
    "id": "HpUppNUyy9Ek"
   },
   "source": [
    "This next part deines the training script"
   ]
  },
  {
   "cell_type": "code",
   "execution_count": 23,
   "metadata": {
    "id": "j_9oM4I0y8cJ"
   },
   "outputs": [
    {
     "name": "stdout",
     "output_type": "stream",
     "text": [
      "Starting Training!\n",
      "\n",
      "##############################################################################################################\n",
      "Epoch 1/60 (109.49s), Train loss: 2.10843, Train acc: 0.34325, Val loss: 2.05791, Val acc: 0.39750, lr: 0.00100.\n",
      "##############################################################################################################\n",
      "Epoch 2/60 (105.15s), Train loss: 2.00363, Train acc: 0.45214, Val loss: 2.01153, Val acc: 0.44270, lr: 0.00100.\n",
      "##############################################################################################################\n",
      "Epoch 3/60 (104.04s), Train loss: 1.95221, Train acc: 0.50466, Val loss: 1.99325, Val acc: 0.46370, lr: 0.00100.\n",
      "##############################################################################################################\n",
      "Epoch 4/60 (97.20s), Train loss: 1.92039, Train acc: 0.53726, Val loss: 1.91637, Val acc: 0.54050, lr: 0.00100.\n",
      "##############################################################################################################\n",
      "Epoch 5/60 (99.87s), Train loss: 1.89497, Train acc: 0.56307, Val loss: 1.86176, Val acc: 0.59590, lr: 0.00100.\n",
      "##############################################################################################################\n",
      "Epoch 6/60 (97.26s), Train loss: 1.87899, Train acc: 0.57905, Val loss: 1.89774, Val acc: 0.56150, lr: 0.00100.\n",
      "##############################################################################################################\n",
      "Epoch 7/60 (98.15s), Train loss: 1.86235, Train acc: 0.59593, Val loss: 1.88037, Val acc: 0.57740, lr: 0.00100.\n",
      "##############################################################################################################\n",
      "Epoch 8/60 (97.37s), Train loss: 1.85231, Train acc: 0.60609, Val loss: 1.87043, Val acc: 0.58750, lr: 0.00100.\n",
      "##############################################################################################################\n",
      "Epoch 9/60 (92.15s), Train loss: 1.84075, Train acc: 0.61809, Val loss: 1.83216, Val acc: 0.62590, lr: 0.00100.\n",
      "##############################################################################################################\n",
      "Epoch 10/60 (94.58s), Train loss: 1.83215, Train acc: 0.62694, Val loss: 1.85304, Val acc: 0.60390, lr: 0.00100.\n",
      "##############################################################################################################\n",
      "Epoch 11/60 (99.82s), Train loss: 1.82227, Train acc: 0.63648, Val loss: 1.80404, Val acc: 0.65320, lr: 0.00100.\n",
      "##############################################################################################################\n",
      "Epoch 12/60 (99.88s), Train loss: 1.81360, Train acc: 0.64536, Val loss: 1.79021, Val acc: 0.66820, lr: 0.00100.\n",
      "##############################################################################################################\n",
      "Epoch 13/60 (100.14s), Train loss: 1.80380, Train acc: 0.65529, Val loss: 1.86324, Val acc: 0.59600, lr: 0.00100.\n",
      "##############################################################################################################\n",
      "Epoch 14/60 (101.07s), Train loss: 1.79698, Train acc: 0.66202, Val loss: 1.79692, Val acc: 0.66130, lr: 0.00100.\n",
      "##############################################################################################################\n",
      "Epoch 15/60 (99.60s), Train loss: 1.79247, Train acc: 0.66661, Val loss: 1.78418, Val acc: 0.67460, lr: 0.00100.\n",
      "##############################################################################################################\n",
      "Epoch 16/60 (101.19s), Train loss: 1.78301, Train acc: 0.67578, Val loss: 1.78779, Val acc: 0.67080, lr: 0.00100.\n",
      "##############################################################################################################\n",
      "Epoch 17/60 (101.87s), Train loss: 1.77866, Train acc: 0.68072, Val loss: 1.76041, Val acc: 0.69900, lr: 0.00100.\n",
      "##############################################################################################################\n",
      "Epoch 18/60 (103.49s), Train loss: 1.77612, Train acc: 0.68311, Val loss: 1.75867, Val acc: 0.70280, lr: 0.00100.\n",
      "##############################################################################################################\n",
      "Epoch 19/60 (101.94s), Train loss: 1.76951, Train acc: 0.69027, Val loss: 1.76575, Val acc: 0.69350, lr: 0.00100.\n",
      "##############################################################################################################\n",
      "Epoch 20/60 (101.29s), Train loss: 1.76719, Train acc: 0.69219, Val loss: 1.74603, Val acc: 0.71290, lr: 0.00100.\n",
      "##############################################################################################################\n",
      "Epoch 21/60 (101.25s), Train loss: 1.76257, Train acc: 0.69706, Val loss: 1.74392, Val acc: 0.71630, lr: 0.00100.\n",
      "##############################################################################################################\n",
      "Epoch 22/60 (100.96s), Train loss: 1.75823, Train acc: 0.70128, Val loss: 1.76351, Val acc: 0.69490, lr: 0.00100.\n",
      "##############################################################################################################\n",
      "Epoch 23/60 (100.84s), Train loss: 1.75527, Train acc: 0.70475, Val loss: 1.73555, Val acc: 0.72370, lr: 0.00100.\n",
      "##############################################################################################################\n",
      "Epoch 24/60 (103.16s), Train loss: 1.75203, Train acc: 0.70761, Val loss: 1.80687, Val acc: 0.65170, lr: 0.00100.\n",
      "##############################################################################################################\n",
      "Epoch 25/60 (103.95s), Train loss: 1.74799, Train acc: 0.71152, Val loss: 1.72772, Val acc: 0.73170, lr: 0.00100.\n",
      "##############################################################################################################\n",
      "Epoch 26/60 (103.07s), Train loss: 1.74576, Train acc: 0.71393, Val loss: 1.72320, Val acc: 0.73670, lr: 0.00100.\n",
      "##############################################################################################################\n",
      "Epoch 27/60 (103.43s), Train loss: 1.74359, Train acc: 0.71655, Val loss: 1.72725, Val acc: 0.73180, lr: 0.00100.\n",
      "##############################################################################################################\n",
      "Epoch 28/60 (103.50s), Train loss: 1.74081, Train acc: 0.71955, Val loss: 1.80273, Val acc: 0.65480, lr: 0.00100.\n",
      "##############################################################################################################\n",
      "Epoch 29/60 (104.19s), Train loss: 1.74016, Train acc: 0.71941, Val loss: 1.72760, Val acc: 0.73230, lr: 0.00100.\n",
      "##############################################################################################################\n",
      "Epoch 30/60 (102.76s), Train loss: 1.73619, Train acc: 0.72408, Val loss: 1.80107, Val acc: 0.65800, lr: 0.00100.\n",
      "##############################################################################################################\n",
      "Epoch 31/60 (103.69s), Train loss: 1.73640, Train acc: 0.72381, Val loss: 1.72100, Val acc: 0.73870, lr: 0.00100.\n",
      "##############################################################################################################\n",
      "Epoch 32/60 (105.49s), Train loss: 1.73238, Train acc: 0.72742, Val loss: 1.78231, Val acc: 0.67610, lr: 0.00100.\n",
      "##############################################################################################################\n",
      "Epoch 33/60 (104.93s), Train loss: 1.73028, Train acc: 0.72934, Val loss: 1.70937, Val acc: 0.75010, lr: 0.00100.\n",
      "##############################################################################################################\n",
      "Epoch 34/60 (105.50s), Train loss: 1.72962, Train acc: 0.73031, Val loss: 1.72371, Val acc: 0.73550, lr: 0.00100.\n",
      "##############################################################################################################\n",
      "Epoch 35/60 (101.06s), Train loss: 1.72702, Train acc: 0.73321, Val loss: 1.72898, Val acc: 0.73110, lr: 0.00100.\n",
      "##############################################################################################################\n",
      "Epoch 36/60 (103.72s), Train loss: 1.72584, Train acc: 0.73457, Val loss: 1.70301, Val acc: 0.75660, lr: 0.00100.\n",
      "##############################################################################################################\n",
      "Epoch 37/60 (104.36s), Train loss: 1.72383, Train acc: 0.73615, Val loss: 1.71689, Val acc: 0.74370, lr: 0.00100.\n",
      "##############################################################################################################\n",
      "Epoch 38/60 (100.87s), Train loss: 1.72316, Train acc: 0.73712, Val loss: 1.71966, Val acc: 0.74020, lr: 0.00100.\n",
      "##############################################################################################################\n",
      "Epoch 39/60 (100.82s), Train loss: 1.72153, Train acc: 0.73866, Val loss: 1.71005, Val acc: 0.74960, lr: 0.00100.\n",
      "##############################################################################################################\n",
      "Epoch 40/60 (100.29s), Train loss: 1.72132, Train acc: 0.73943, Val loss: 1.71995, Val acc: 0.73940, lr: 0.00100.\n",
      "##############################################################################################################\n",
      "Epoch 41/60 (101.19s), Train loss: 1.71951, Train acc: 0.74063, Val loss: 1.71235, Val acc: 0.74620, lr: 0.00100.\n",
      "##############################################################################################################\n",
      "Epoch 42/60 (100.75s), Train loss: 1.71624, Train acc: 0.74440, Val loss: 1.75126, Val acc: 0.70770, lr: 0.00100.\n",
      "##############################################################################################################\n",
      "Epoch 43/60 (100.81s), Train loss: 1.70367, Train acc: 0.75693, Val loss: 1.68055, Val acc: 0.77980, lr: 0.00050.\n",
      "##############################################################################################################\n",
      "Epoch 44/60 (101.40s), Train loss: 1.69538, Train acc: 0.76487, Val loss: 1.67813, Val acc: 0.78070, lr: 0.00050.\n",
      "##############################################################################################################\n",
      "Epoch 45/60 (100.20s), Train loss: 1.69358, Train acc: 0.76649, Val loss: 1.67389, Val acc: 0.78480, lr: 0.00050.\n",
      "##############################################################################################################\n",
      "Epoch 46/60 (102.05s), Train loss: 1.68922, Train acc: 0.77172, Val loss: 1.68337, Val acc: 0.77690, lr: 0.00050.\n",
      "##############################################################################################################\n",
      "Epoch 47/60 (101.64s), Train loss: 1.68831, Train acc: 0.77253, Val loss: 1.67864, Val acc: 0.78080, lr: 0.00050.\n",
      "##############################################################################################################\n",
      "Epoch 48/60 (102.60s), Train loss: 1.68703, Train acc: 0.77347, Val loss: 1.66796, Val acc: 0.79170, lr: 0.00050.\n",
      "##############################################################################################################\n",
      "Epoch 49/60 (102.50s), Train loss: 1.68678, Train acc: 0.77409, Val loss: 1.68585, Val acc: 0.77270, lr: 0.00050.\n",
      "##############################################################################################################\n",
      "Epoch 50/60 (101.38s), Train loss: 1.68487, Train acc: 0.77552, Val loss: 1.67168, Val acc: 0.78850, lr: 0.00050.\n",
      "##############################################################################################################\n",
      "Epoch 51/60 (95.63s), Train loss: 1.68466, Train acc: 0.77581, Val loss: 1.68698, Val acc: 0.77250, lr: 0.00050.\n",
      "##############################################################################################################\n",
      "Epoch 52/60 (96.10s), Train loss: 1.68338, Train acc: 0.77701, Val loss: 1.67131, Val acc: 0.78910, lr: 0.00050.\n",
      "##############################################################################################################\n",
      "Epoch 53/60 (96.05s), Train loss: 1.68168, Train acc: 0.77888, Val loss: 1.67640, Val acc: 0.78370, lr: 0.00050.\n",
      "##############################################################################################################\n",
      "Epoch 54/60 (102.15s), Train loss: 1.68114, Train acc: 0.77909, Val loss: 1.67311, Val acc: 0.78670, lr: 0.00050.\n",
      "##############################################################################################################\n",
      "Epoch 55/60 (101.06s), Train loss: 1.67193, Train acc: 0.78910, Val loss: 1.65897, Val acc: 0.80170, lr: 0.00025.\n",
      "##############################################################################################################\n",
      "Epoch 56/60 (101.50s), Train loss: 1.66848, Train acc: 0.79245, Val loss: 1.64985, Val acc: 0.81060, lr: 0.00025.\n",
      "##############################################################################################################\n",
      "Epoch 57/60 (117.29s), Train loss: 1.66937, Train acc: 0.79107, Val loss: 1.65858, Val acc: 0.80200, lr: 0.00025.\n",
      "##############################################################################################################\n",
      "Epoch 58/60 (117.18s), Train loss: 1.66675, Train acc: 0.79392, Val loss: 1.65799, Val acc: 0.80170, lr: 0.00025.\n",
      "##############################################################################################################\n",
      "Epoch 59/60 (117.11s), Train loss: 1.66381, Train acc: 0.79706, Val loss: 1.65819, Val acc: 0.80110, lr: 0.00025.\n",
      "##############################################################################################################\n",
      "Epoch 60/60 (112.58s), Train loss: 1.66473, Train acc: 0.79601, Val loss: 1.64946, Val acc: 0.81130, lr: 0.00025.\n"
     ]
    }
   ],
   "source": [
    "print(\"Starting Training!\\n\")\n",
    "for epoch in range(epochs):\n",
    "  t0 = time.time()\n",
    "  model.train()\n",
    "  running_loss = 0.0\n",
    "  running_counter = 0\n",
    "  running_correct= 0 \n",
    "  for i, data in enumerate(train_dataloader, 0):\n",
    "    inputs, labels = data\n",
    "    inputs = inputs.cuda()\n",
    "    labels = labels.cuda()\n",
    "    \n",
    "    optimizer.zero_grad()\n",
    "    outputs = model(inputs)\n",
    "    loss = criterion(outputs, labels)\n",
    "    loss.backward()\n",
    "    optimizer.step()\n",
    "\n",
    "    running_loss += loss.item() * inputs.size(0)\n",
    "    running_counter += inputs.size(0)\n",
    "\n",
    "    _, predicted = torch.max(outputs.data, 1)\n",
    "    running_correct += (predicted == labels).sum().item()\n",
    "  train_losses.append(running_loss/len(train_dataloader.dataset))\n",
    "  train_accuracies.append(running_correct/running_counter)\n",
    "  \n",
    "  running_loss = 0.0\n",
    "  running_correct = 0\n",
    "  running_counter = 0\n",
    "  model.eval()\n",
    "  with torch.no_grad():\n",
    "    for i, data in enumerate(test_dataloader, 0):\n",
    "      inputs, labels = data\n",
    "      inputs = inputs.cuda()\n",
    "      labels = labels.cuda()\n",
    "      outputs = model(inputs)\n",
    "      loss = criterion(outputs, labels)\n",
    "      running_loss += loss.item() * inputs.size(0)\n",
    "      running_counter += inputs.size(0)\n",
    "\n",
    "      _, predicted = torch.max(outputs.data, 1)\n",
    "      running_correct += (predicted == labels).sum().item()\n",
    "  val_losses.append(running_loss/len(test_dataloader.dataset))\n",
    "  val_accuracies.append(running_correct/running_counter)\n",
    "  lrs.append(get_lr(optimizer))\n",
    "  scheduler.step(val_losses[-1])\n",
    "  \n",
    "  print(\"##############################################################################################################\")\n",
    "  print(f\"Epoch {epoch+1}/{epochs} ({time.time()-t0:.2f}s), Train loss: {train_losses[-1]:.5f}, Train acc: {train_accuracies[-1]:.5f}, Val loss: {val_losses[-1]:.5f}, Val acc: {val_accuracies[-1]:.5f}, lr: {lrs[-1]:.5f}.\")\n",
    "\n"
   ]
  },
  {
   "cell_type": "markdown",
   "metadata": {},
   "source": [
    "Graphs"
   ]
  },
  {
   "cell_type": "code",
   "execution_count": 24,
   "metadata": {
    "tags": []
   },
   "outputs": [
    {
     "data": {
      "text/plain": [
       "<matplotlib.legend.Legend at 0x7f6063a7af20>"
      ]
     },
     "execution_count": 24,
     "metadata": {},
     "output_type": "execute_result"
    },
    {
     "data": {
      "image/png": "[encoded data removed]",
      "text/plain": [
       "<Figure size 1080x720 with 2 Axes>"
      ]
     },
     "metadata": {
      "needs_background": "light"
     },
     "output_type": "display_data"
    }
   ],
   "source": [
    "fix, axs = plt.subplots(nrows = 2, ncols = 1, figsize=(15,10))\n",
    "\n",
    "axs[0].set_xlabel(\"epochs\")\n",
    "axs[0].set_ylabel(\"loss\")\n",
    "axs[0].plot(range(1,epochs+1),train_losses, label=\"train_loss\")\n",
    "axs[0].plot(range(1,epochs+1),val_losses, label=\"val_loss\")\n",
    "axs[0].legend()\n",
    "\n",
    "axs[1].set_xlabel(\"epochs\")\n",
    "axs[1].set_ylabel(\"accuracy\")\n",
    "axs[1].plot(range(1,epochs+1),train_accuracies, label=\"train_acc\")\n",
    "axs[1].plot(range(1,epochs+1),val_accuracies, label=\"val_acc\")\n",
    "axs[1].legend()"
   ]
  },
  {
   "cell_type": "markdown",
   "metadata": {
    "id": "ddZkbT620Qj1"
   },
   "source": [
    "# 5. Final model accuracy on **CIFAR-10 Validation Set**:"
   ]
  },
  {
   "cell_type": "code",
   "execution_count": 25,
   "metadata": {
    "id": "hGINRIZs0aZI"
   },
   "outputs": [
    {
     "name": "stdout",
     "output_type": "stream",
     "text": [
      "validation loss:  1.6494630260467529\n",
      "validation accuracy:  0.8113\n"
     ]
    }
   ],
   "source": [
    "running_loss = 0.0\n",
    "running_correct = 0\n",
    "running_counter = 0\n",
    "model.eval()\n",
    "with torch.no_grad():\n",
    "    for i, data in enumerate(test_dataloader, 0):\n",
    "      inputs, labels = data\n",
    "      inputs = inputs.cuda()\n",
    "      labels = labels.cuda()\n",
    "      outputs = model(inputs)\n",
    "      loss = criterion(outputs, labels)\n",
    "      running_loss += loss.item() * inputs.size(0)\n",
    "      running_counter += inputs.size(0)\n",
    "\n",
    "      _, predicted = torch.max(outputs.data, 1)\n",
    "      running_correct += (predicted == labels).sum().item()\n",
    "    val_loss = running_loss / len(test_dataloader.dataset)\n",
    "    val_accuracy = running_correct/running_counter\n",
    "\n",
    "print(\"validation loss: \",val_loss)\n",
    "print(\"validation accuracy: \", val_accuracy)"
   ]
  }
 ],
 "metadata": {
  "colab": {
   "collapsed_sections": [
    "V54h2t2bpZLW",
    "QUSgZOnjpd8u"
   ],
   "provenance": []
  },
  "kernelspec": {
   "display_name": "Python 3 (ipykernel)",
   "language": "python",
   "name": "python3"
  },
  "language_info": {
   "codemirror_mode": {
    "name": "ipython",
    "version": 3
   },
   "file_extension": ".py",
   "mimetype": "text/x-python",
   "name": "python",
   "nbconvert_exporter": "python",
   "pygments_lexer": "ipython3",
   "version": "3.10.5"
  }
 },
 "nbformat": 4,
 "nbformat_minor": 4
}
